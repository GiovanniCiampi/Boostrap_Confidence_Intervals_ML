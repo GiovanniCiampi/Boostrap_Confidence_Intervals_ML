{
 "cells": [
  {
   "cell_type": "markdown",
   "metadata": {},
   "source": [
    "# Empirical Estimation of Confidence Intervals for Machine Learning\n",
    "This notebook presents the usage of python functions to perform empirical\n",
    "estimation of confidence intervals for machine learning models. This kind of confidence interval estimation is often\n",
    "called \"Bootstrap Confidence Interval\" of \"Monte Carlo Confidence Interval\" estimation."
   ]
  },
  {
   "cell_type": "code",
   "execution_count": 1,
   "metadata": {},
   "outputs": [],
   "source": [
    "import numpy as np\n",
    "from tqdm.auto import tqdm"
   ]
  },
  {
   "cell_type": "code",
   "execution_count": 2,
   "metadata": {},
   "outputs": [],
   "source": [
    "%%capture\n",
    "\n",
    "from keras.models import Sequential\n",
    "from keras.layers import Dense"
   ]
  },
  {
   "cell_type": "code",
   "execution_count": 3,
   "metadata": {},
   "outputs": [],
   "source": [
    "from sklearn.datasets import load_iris\n",
    "\n",
    "from sklearn.preprocessing import OneHotEncoder\n",
    "from sklearn.ensemble import RandomForestClassifier "
   ]
  },
  {
   "cell_type": "code",
   "execution_count": 4,
   "metadata": {},
   "outputs": [],
   "source": [
    "from bootstrap_confindence_intervals import get_accuracy_on_samples, get_confidence_interval"
   ]
  },
  {
   "cell_type": "code",
   "execution_count": null,
   "metadata": {},
   "outputs": [],
   "source": []
  },
  {
   "cell_type": "markdown",
   "metadata": {},
   "source": [
    "# Basic Usage\n",
    "The basic usage of the functions is presented by computing different confidence intervals for a random-forest classifier over the iris dataset."
   ]
  },
  {
   "cell_type": "code",
   "execution_count": 5,
   "metadata": {},
   "outputs": [],
   "source": [
    "# Data loading and presentation\n",
    "\n",
    "iris_dataset = load_iris()\n",
    "iris_X, iris_y = iris_dataset['data'], iris_dataset['target']"
   ]
  },
  {
   "cell_type": "code",
   "execution_count": 6,
   "metadata": {},
   "outputs": [
    {
     "data": {
      "text/plain": [
       "[(array([5.1, 3.5, 1.4, 0.2]), 0),\n",
       " (array([4.9, 3. , 1.4, 0.2]), 0),\n",
       " (array([4.7, 3.2, 1.3, 0.2]), 0),\n",
       " (array([4.6, 3.1, 1.5, 0.2]), 0),\n",
       " (array([5. , 3.6, 1.4, 0.2]), 0)]"
      ]
     },
     "execution_count": 6,
     "metadata": {},
     "output_type": "execute_result"
    }
   ],
   "source": [
    "[(a, b) for (a, b) in zip(iris_X, iris_y)][:5]"
   ]
  },
  {
   "cell_type": "code",
   "execution_count": 7,
   "metadata": {},
   "outputs": [
    {
     "data": {
      "text/plain": [
       "[(array([6.7, 3. , 5.2, 2.3]), 2),\n",
       " (array([6.3, 2.5, 5. , 1.9]), 2),\n",
       " (array([6.5, 3. , 5.2, 2. ]), 2),\n",
       " (array([6.2, 3.4, 5.4, 2.3]), 2),\n",
       " (array([5.9, 3. , 5.1, 1.8]), 2)]"
      ]
     },
     "execution_count": 7,
     "metadata": {},
     "output_type": "execute_result"
    }
   ],
   "source": [
    "[(a, b) for (a, b) in zip(iris_X, iris_y)][-5:]"
   ]
  },
  {
   "cell_type": "code",
   "execution_count": null,
   "metadata": {},
   "outputs": [],
   "source": []
  },
  {
   "cell_type": "code",
   "execution_count": 8,
   "metadata": {},
   "outputs": [],
   "source": [
    "# These parameters will be passed to the constructor of RandomForestClassifier for the creation of each new instance\n",
    "\n",
    "rfc_params_dict = {\"n_estimators\":20, \"max_depth\":3}"
   ]
  },
  {
   "cell_type": "code",
   "execution_count": 9,
   "metadata": {},
   "outputs": [
    {
     "name": "stdout",
     "output_type": "stream",
     "text": [
      "Evaluating model on 100 samples of (X, y).\n",
      "Each sample will contain 105 elements from X, out of which 84 elements\n",
      "will be used to train the model, while the remaining 21 elements to test its accuracy.\n"
     ]
    },
    {
     "data": {
      "application/vnd.jupyter.widget-view+json": {
       "model_id": "3397e737e09f493d910f5c7b01b4744f",
       "version_major": 2,
       "version_minor": 0
      },
      "text/plain": [
       "HBox(children=(HTML(value=''), FloatProgress(value=0.0), HTML(value='')))"
      ]
     },
     "metadata": {},
     "output_type": "display_data"
    },
    {
     "name": "stdout",
     "output_type": "stream",
     "text": [
      "\n"
     ]
    }
   ],
   "source": [
    "# The accuracy of a random-forest classifier is evaluated on 100 samples of the iris dataset. Each sample is sampled\n",
    "# with replacement from the original dataset.\n",
    "\n",
    "accs=get_accuracy_on_samples(RandomForestClassifier, iris_X, iris_y,\n",
    "                             model_params_dict=rfc_params_dict,\n",
    "                             n_iterations=100, sample_ratio=0.7,\n",
    "                             train_ratio=0.8, random_seed=None,\n",
    "                             sample_with_replacement=True, verbose=True)"
   ]
  },
  {
   "cell_type": "code",
   "execution_count": 10,
   "metadata": {},
   "outputs": [
    {
     "data": {
      "text/plain": [
       "[(0, 1.0),\n",
       " (1, 0.9047619047619048),\n",
       " (2, 1.0),\n",
       " (3, 1.0),\n",
       " (4, 0.9523809523809523)]"
      ]
     },
     "execution_count": 10,
     "metadata": {},
     "output_type": "execute_result"
    }
   ],
   "source": [
    "[(k, accs[k]) for k in range(5)]"
   ]
  },
  {
   "cell_type": "code",
   "execution_count": 11,
   "metadata": {},
   "outputs": [
    {
     "name": "stdout",
     "output_type": "stream",
     "text": [
      "From the given data, with 90% probability,\n",
      "the accuracy of the model is 95.24% +/- 4.76\n"
     ]
    },
    {
     "data": {
      "text/plain": [
       "(0.9047619047619048, 1.0)"
      ]
     },
     "execution_count": 11,
     "metadata": {},
     "output_type": "execute_result"
    }
   ],
   "source": [
    "# Confidence intervals are estimated from the performance of the models in the 100 evaluations.\n",
    "\n",
    "get_confidence_interval(accs, 10)"
   ]
  },
  {
   "cell_type": "code",
   "execution_count": 12,
   "metadata": {},
   "outputs": [
    {
     "name": "stdout",
     "output_type": "stream",
     "text": [
      "From the given data, with 95% probability,\n",
      "the accuracy of the model is 92.86% +/- 7.14\n"
     ]
    },
    {
     "data": {
      "text/plain": [
       "(0.8571428571428571, 1.0)"
      ]
     },
     "execution_count": 12,
     "metadata": {},
     "output_type": "execute_result"
    }
   ],
   "source": [
    "get_confidence_interval(accs, 5)"
   ]
  },
  {
   "cell_type": "code",
   "execution_count": 13,
   "metadata": {},
   "outputs": [
    {
     "name": "stdout",
     "output_type": "stream",
     "text": [
      "From the given data, with 99% probability,\n",
      "the accuracy of the model is 89.27% +/- 10.73\n"
     ]
    },
    {
     "data": {
      "text/plain": [
       "(0.7854761904761904, 1.0)"
      ]
     },
     "execution_count": 13,
     "metadata": {},
     "output_type": "execute_result"
    }
   ],
   "source": [
    "get_confidence_interval(accs, 1)"
   ]
  },
  {
   "cell_type": "code",
   "execution_count": null,
   "metadata": {},
   "outputs": [],
   "source": []
  },
  {
   "cell_type": "code",
   "execution_count": 14,
   "metadata": {},
   "outputs": [],
   "source": [
    "rfc_params_dict = {\"n_estimators\":5, \"max_depth\":5}"
   ]
  },
  {
   "cell_type": "code",
   "execution_count": 15,
   "metadata": {},
   "outputs": [
    {
     "name": "stdout",
     "output_type": "stream",
     "text": [
      "Evaluating model on 200 samples of (X, y).\n",
      "Each sample will contain 120 elements from X, out of which 102 elements\n",
      "will be used to train the model, while the remaining 18 elements to test its accuracy.\n"
     ]
    },
    {
     "data": {
      "application/vnd.jupyter.widget-view+json": {
       "model_id": "8eea3ac8546b4da2867cf6c1fc567137",
       "version_major": 2,
       "version_minor": 0
      },
      "text/plain": [
       "HBox(children=(HTML(value=''), FloatProgress(value=0.0, max=200.0), HTML(value='')))"
      ]
     },
     "metadata": {},
     "output_type": "display_data"
    },
    {
     "name": "stdout",
     "output_type": "stream",
     "text": [
      "\n"
     ]
    }
   ],
   "source": [
    "accs=get_accuracy_on_samples(RandomForestClassifier, iris_X, iris_y,\n",
    "                             model_params_dict=rfc_params_dict,\n",
    "                             n_iterations=200, sample_ratio=0.8,\n",
    "                             train_ratio=0.85, random_seed=None,\n",
    "                             sample_with_replacement=True, verbose=True)"
   ]
  },
  {
   "cell_type": "code",
   "execution_count": 16,
   "metadata": {},
   "outputs": [
    {
     "data": {
      "text/plain": [
       "[(0, 1.0), (1, 1.0), (2, 1.0), (3, 1.0), (4, 1.0), (5, 0.8888888888888888)]"
      ]
     },
     "execution_count": 16,
     "metadata": {},
     "output_type": "execute_result"
    }
   ],
   "source": [
    "[(k, accs[k]) for k in range(6)]"
   ]
  },
  {
   "cell_type": "code",
   "execution_count": 17,
   "metadata": {},
   "outputs": [
    {
     "name": "stdout",
     "output_type": "stream",
     "text": [
      "From the given data, with 90% probability,\n",
      "the accuracy of the model is 94.44% +/- 5.56\n"
     ]
    },
    {
     "data": {
      "text/plain": [
       "(0.8888888888888888, 1.0)"
      ]
     },
     "execution_count": 17,
     "metadata": {},
     "output_type": "execute_result"
    }
   ],
   "source": [
    "get_confidence_interval(accs, 10)"
   ]
  },
  {
   "cell_type": "code",
   "execution_count": 18,
   "metadata": {},
   "outputs": [
    {
     "name": "stdout",
     "output_type": "stream",
     "text": [
      "From the given data, with 95% probability,\n",
      "the accuracy of the model is 94.44% +/- 5.56\n"
     ]
    },
    {
     "data": {
      "text/plain": [
       "(0.8888888888888888, 1.0)"
      ]
     },
     "execution_count": 18,
     "metadata": {},
     "output_type": "execute_result"
    }
   ],
   "source": [
    "get_confidence_interval(accs, 5)"
   ]
  },
  {
   "cell_type": "code",
   "execution_count": 19,
   "metadata": {},
   "outputs": [
    {
     "name": "stdout",
     "output_type": "stream",
     "text": [
      "From the given data, with 99% probability,\n",
      "the accuracy of the model is 94.43% +/- 5.57\n"
     ]
    },
    {
     "data": {
      "text/plain": [
       "(0.888611111111111, 1.0)"
      ]
     },
     "execution_count": 19,
     "metadata": {},
     "output_type": "execute_result"
    }
   ],
   "source": [
    "get_confidence_interval(accs, 1)"
   ]
  },
  {
   "cell_type": "code",
   "execution_count": null,
   "metadata": {},
   "outputs": [],
   "source": []
  },
  {
   "cell_type": "code",
   "execution_count": 20,
   "metadata": {},
   "outputs": [],
   "source": [
    "rfc_params_dict = {\"n_estimators\":10, \"max_depth\":5}"
   ]
  },
  {
   "cell_type": "code",
   "execution_count": 21,
   "metadata": {},
   "outputs": [
    {
     "name": "stdout",
     "output_type": "stream",
     "text": [
      "Evaluating model on 1000 samples of (X, y).\n",
      "Each sample will contain 120 elements from X, out of which 96 elements\n",
      "will be used to train the model, while the remaining 24 elements to test its accuracy.\n"
     ]
    },
    {
     "data": {
      "application/vnd.jupyter.widget-view+json": {
       "model_id": "58556e64da8a420f86a7c0e57a58f987",
       "version_major": 2,
       "version_minor": 0
      },
      "text/plain": [
       "HBox(children=(HTML(value=''), FloatProgress(value=0.0, max=1000.0), HTML(value='')))"
      ]
     },
     "metadata": {},
     "output_type": "display_data"
    },
    {
     "name": "stdout",
     "output_type": "stream",
     "text": [
      "\n"
     ]
    }
   ],
   "source": [
    "# In this example the resampling is performed without replacement\n",
    "\n",
    "accs=get_accuracy_on_samples(RandomForestClassifier, iris_X, iris_y,\n",
    "                             model_params_dict=rfc_params_dict,\n",
    "                             n_iterations=1000, sample_ratio=0.8,\n",
    "                             train_ratio=0.8, random_seed=None,\n",
    "                             sample_with_replacement=False, verbose=True)"
   ]
  },
  {
   "cell_type": "code",
   "execution_count": 22,
   "metadata": {},
   "outputs": [
    {
     "data": {
      "text/plain": [
       "[(0, 0.9583333333333334),\n",
       " (1, 1.0),\n",
       " (2, 0.9166666666666666),\n",
       " (3, 0.9583333333333334),\n",
       " (4, 1.0),\n",
       " (5, 1.0)]"
      ]
     },
     "execution_count": 22,
     "metadata": {},
     "output_type": "execute_result"
    }
   ],
   "source": [
    "[(k, accs[k]) for k in range(6)]"
   ]
  },
  {
   "cell_type": "code",
   "execution_count": 23,
   "metadata": {},
   "outputs": [
    {
     "data": {
      "text/plain": [
       "(0.875, 1.0)"
      ]
     },
     "execution_count": 23,
     "metadata": {},
     "output_type": "execute_result"
    }
   ],
   "source": [
    "get_confidence_interval(accs, 10, verbose=False)"
   ]
  },
  {
   "cell_type": "code",
   "execution_count": 24,
   "metadata": {},
   "outputs": [
    {
     "data": {
      "text/plain": [
       "(0.8333333333333334, 1.0)"
      ]
     },
     "execution_count": 24,
     "metadata": {},
     "output_type": "execute_result"
    }
   ],
   "source": [
    "get_confidence_interval(accs, 5, verbose=False)"
   ]
  },
  {
   "cell_type": "code",
   "execution_count": 25,
   "metadata": {},
   "outputs": [
    {
     "data": {
      "text/plain": [
       "(0.7916666666666666, 1.0)"
      ]
     },
     "execution_count": 25,
     "metadata": {},
     "output_type": "execute_result"
    }
   ],
   "source": [
    "get_confidence_interval(accs, 1, verbose=False)"
   ]
  },
  {
   "cell_type": "code",
   "execution_count": null,
   "metadata": {},
   "outputs": [],
   "source": []
  },
  {
   "cell_type": "markdown",
   "metadata": {},
   "source": [
    "# Neural Networks and One-Hot-Encoding\n",
    "The following example shows how to use the functions with simple neural networks and one hot encoding of labels."
   ]
  },
  {
   "cell_type": "code",
   "execution_count": 26,
   "metadata": {},
   "outputs": [],
   "source": [
    "%%capture\n",
    "iris_y_onehot = OneHotEncoder().fit_transform(iris_y.reshape(-1, 1)).toarray()"
   ]
  },
  {
   "cell_type": "code",
   "execution_count": 27,
   "metadata": {},
   "outputs": [
    {
     "data": {
      "text/plain": [
       "(array([[1., 0., 0.],\n",
       "        [1., 0., 0.],\n",
       "        [1., 0., 0.],\n",
       "        [1., 0., 0.],\n",
       "        [1., 0., 0.]]), array([[0., 0., 1.],\n",
       "        [0., 0., 1.],\n",
       "        [0., 0., 1.],\n",
       "        [0., 0., 1.],\n",
       "        [0., 0., 1.]]))"
      ]
     },
     "execution_count": 27,
     "metadata": {},
     "output_type": "execute_result"
    }
   ],
   "source": [
    "iris_y_onehot[:5], iris_y_onehot[-5:]"
   ]
  },
  {
   "cell_type": "code",
   "execution_count": 28,
   "metadata": {},
   "outputs": [],
   "source": [
    "# The following function will return instances of the model\n",
    "\n",
    "def get_model(hidden_units,  n_output_units, hidden_activation=\"relu\",\n",
    "              output_activation=\"softmax\", loss=\"binary_crossentropy\",\n",
    "              optimizer=\"adam\", metric=\"accuracy\"):\n",
    "    model = Sequential()\n",
    "    \n",
    "    for u in hidden_units:\n",
    "        model.add(Dense(u, activation=hidden_activation))\n",
    "    model.add(Dense(n_output_units, activation=output_activation))\n",
    "    \n",
    "    model.compile(loss=loss, optimizer=optimizer, metrics=[metric])\n",
    "    return model"
   ]
  },
  {
   "cell_type": "code",
   "execution_count": 29,
   "metadata": {},
   "outputs": [],
   "source": [
    "model = get_model(hidden_units=[30, 20, 10],  n_output_units=3)"
   ]
  },
  {
   "cell_type": "code",
   "execution_count": 30,
   "metadata": {},
   "outputs": [
    {
     "name": "stderr",
     "output_type": "stream",
     "text": [
      "WARNING: Logging before flag parsing goes to stderr.\n",
      "W1229 16:22:36.758777 139724031637312 deprecation.py:323] From /usr/local/lib/python3.6/dist-packages/tensorflow/python/ops/math_grad.py:1250: add_dispatch_support.<locals>.wrapper (from tensorflow.python.ops.array_ops) is deprecated and will be removed in a future version.\n",
      "Instructions for updating:\n",
      "Use tf.where in 2.0, which has the same broadcast rule as np.where\n",
      "W1229 16:22:38.383352 139724031637312 deprecation_wrapper.py:119] From /usr/local/lib/python3.6/dist-packages/keras/backend/tensorflow_backend.py:422: The name tf.global_variables is deprecated. Please use tf.compat.v1.global_variables instead.\n",
      "\n"
     ]
    },
    {
     "name": "stdout",
     "output_type": "stream",
     "text": [
      "Epoch 1/8\n",
      "150/150 [==============================] - 0s 2ms/step - loss: 0.6490 - accuracy: 0.6311\n",
      "Epoch 2/8\n",
      "150/150 [==============================] - 0s 264us/step - loss: 0.4932 - accuracy: 0.7822\n",
      "Epoch 3/8\n",
      "150/150 [==============================] - 0s 262us/step - loss: 0.4240 - accuracy: 0.8733\n",
      "Epoch 4/8\n",
      "150/150 [==============================] - 0s 261us/step - loss: 0.3662 - accuracy: 0.8800\n",
      "Epoch 5/8\n",
      "150/150 [==============================] - 0s 267us/step - loss: 0.3331 - accuracy: 0.8533\n",
      "Epoch 6/8\n",
      "150/150 [==============================] - 0s 266us/step - loss: 0.2939 - accuracy: 0.9044\n",
      "Epoch 7/8\n",
      "150/150 [==============================] - 0s 266us/step - loss: 0.2888 - accuracy: 0.8511\n",
      "Epoch 8/8\n",
      "150/150 [==============================] - 0s 266us/step - loss: 0.2686 - accuracy: 0.9000\n"
     ]
    },
    {
     "data": {
      "text/plain": [
       "<keras.callbacks.callbacks.History at 0x7f1360213a90>"
      ]
     },
     "execution_count": 30,
     "metadata": {},
     "output_type": "execute_result"
    }
   ],
   "source": [
    "model.fit(iris_X, iris_y_onehot, epochs = 8, verbose=1, batch_size=10)"
   ]
  },
  {
   "cell_type": "code",
   "execution_count": 31,
   "metadata": {},
   "outputs": [
    {
     "data": {
      "text/plain": [
       "array([[0.9513953 , 0.03880021, 0.00980448],\n",
       "       [0.91564775, 0.06664806, 0.01770419],\n",
       "       [0.9358865 , 0.05006092, 0.01405252],\n",
       "       [0.917441  , 0.06461114, 0.01794783],\n",
       "       [0.95593554, 0.03497979, 0.00908462]], dtype=float32)"
      ]
     },
     "execution_count": 31,
     "metadata": {},
     "output_type": "execute_result"
    }
   ],
   "source": [
    "model.predict(iris_X[:5])"
   ]
  },
  {
   "cell_type": "code",
   "execution_count": null,
   "metadata": {},
   "outputs": [],
   "source": []
  },
  {
   "cell_type": "code",
   "execution_count": 32,
   "metadata": {},
   "outputs": [],
   "source": [
    "dnn_params_dict = {'hidden_units':[30, 20, 10], 'hidden_activation':\"relu\", 'n_output_units':3,\n",
    "                   'output_activation':\"softmax\", 'loss':'binary_crossentropy', 'optimizer':'adam'}\n",
    "\n",
    "# These parameters will be passed to the network on the calls of the fit method.\n",
    "dnn_fit_params_dict={'epochs':50, 'batch_size':10, 'verbose':0}"
   ]
  },
  {
   "cell_type": "code",
   "execution_count": null,
   "metadata": {},
   "outputs": [],
   "source": []
  },
  {
   "cell_type": "code",
   "execution_count": 33,
   "metadata": {},
   "outputs": [
    {
     "name": "stdout",
     "output_type": "stream",
     "text": [
      "Evaluating model on 20 samples of (X, y).\n",
      "Each sample will contain 105 elements from X, out of which 84 elements\n",
      "will be used to train the model, while the remaining 21 elements to test its accuracy.\n"
     ]
    },
    {
     "data": {
      "application/vnd.jupyter.widget-view+json": {
       "model_id": "134816cf3bb44f43947f9de7052fff4c",
       "version_major": 2,
       "version_minor": 0
      },
      "text/plain": [
       "HBox(children=(HTML(value=''), FloatProgress(value=0.0, max=20.0), HTML(value='')))"
      ]
     },
     "metadata": {},
     "output_type": "display_data"
    },
    {
     "name": "stdout",
     "output_type": "stream",
     "text": [
      "\n"
     ]
    }
   ],
   "source": [
    "accs=get_accuracy_on_samples(get_model, iris_X, iris_y_onehot, model_params_dict=dnn_params_dict,\n",
    "                            fit_params_dict=dnn_fit_params_dict, n_iterations=20, sample_ratio=0.7,\n",
    "                            train_ratio=0.8, random_seed=None, sample_with_replacement=True,\n",
    "                             verbose=True, is_one_hot=True)"
   ]
  },
  {
   "cell_type": "code",
   "execution_count": 34,
   "metadata": {},
   "outputs": [
    {
     "name": "stdout",
     "output_type": "stream",
     "text": [
      "From the given data, with 90% probability,\n",
      "the accuracy of the model is 97.5% +/- 2.5\n"
     ]
    },
    {
     "data": {
      "text/plain": [
       "(0.95, 1.0)"
      ]
     },
     "execution_count": 34,
     "metadata": {},
     "output_type": "execute_result"
    }
   ],
   "source": [
    "get_confidence_interval(accs, 10)"
   ]
  },
  {
   "cell_type": "code",
   "execution_count": 35,
   "metadata": {},
   "outputs": [
    {
     "name": "stdout",
     "output_type": "stream",
     "text": [
      "From the given data, with 95% probability,\n",
      "the accuracy of the model is 96.37% +/- 3.63\n"
     ]
    },
    {
     "data": {
      "text/plain": [
       "(0.9273809523809523, 1.0)"
      ]
     },
     "execution_count": 35,
     "metadata": {},
     "output_type": "execute_result"
    }
   ],
   "source": [
    "get_confidence_interval(accs, 5)"
   ]
  },
  {
   "cell_type": "code",
   "execution_count": 36,
   "metadata": {},
   "outputs": [
    {
     "name": "stdout",
     "output_type": "stream",
     "text": [
      "From the given data, with 99% probability,\n",
      "the accuracy of the model is 95.46% +/- 4.54\n"
     ]
    },
    {
     "data": {
      "text/plain": [
       "(0.9092857142857144, 1.0)"
      ]
     },
     "execution_count": 36,
     "metadata": {},
     "output_type": "execute_result"
    }
   ],
   "source": [
    "get_confidence_interval(accs, 1)"
   ]
  },
  {
   "cell_type": "code",
   "execution_count": null,
   "metadata": {},
   "outputs": [],
   "source": []
  },
  {
   "cell_type": "markdown",
   "metadata": {},
   "source": [
    "# Deterministic Resampling\n",
    "The following example shows the usage of the $\\texttt{random_seed}$ parameter."
   ]
  },
  {
   "cell_type": "code",
   "execution_count": 37,
   "metadata": {},
   "outputs": [],
   "source": [
    "rfc_params_dict = {\"n_estimators\":10, \"max_depth\":5}"
   ]
  },
  {
   "cell_type": "code",
   "execution_count": 38,
   "metadata": {},
   "outputs": [
    {
     "name": "stdout",
     "output_type": "stream",
     "text": [
      "Evaluating model on 100 samples of (X, y).\n",
      "Each sample will contain 105 elements from X, out of which 84 elements\n",
      "will be used to train the model, while the remaining 21 elements to test its accuracy.\n"
     ]
    },
    {
     "data": {
      "application/vnd.jupyter.widget-view+json": {
       "model_id": "93f3709130de4f98a2ecfcc8ac319300",
       "version_major": 2,
       "version_minor": 0
      },
      "text/plain": [
       "HBox(children=(HTML(value=''), FloatProgress(value=0.0), HTML(value='')))"
      ]
     },
     "metadata": {},
     "output_type": "display_data"
    },
    {
     "name": "stdout",
     "output_type": "stream",
     "text": [
      "\n"
     ]
    }
   ],
   "source": [
    "# Here the random_seed param is set.\n",
    "\n",
    "accs_run_1=get_accuracy_on_samples(RandomForestClassifier, iris_X, iris_y,\n",
    "                             model_params_dict=rfc_params_dict,\n",
    "                             n_iterations=100, sample_ratio=0.7,\n",
    "                             train_ratio=0.8, random_seed=42,\n",
    "                             sample_with_replacement=True, verbose=True)"
   ]
  },
  {
   "cell_type": "code",
   "execution_count": 39,
   "metadata": {},
   "outputs": [
    {
     "data": {
      "text/plain": [
       "[(0, 0.9523809523809523),\n",
       " (1, 1.0),\n",
       " (2, 0.9047619047619048),\n",
       " (3, 0.9523809523809523),\n",
       " (4, 0.9523809523809523),\n",
       " (5, 1.0)]"
      ]
     },
     "execution_count": 39,
     "metadata": {},
     "output_type": "execute_result"
    }
   ],
   "source": [
    "[(k, accs_run_1[k]) for k in range(6)]"
   ]
  },
  {
   "cell_type": "code",
   "execution_count": 40,
   "metadata": {},
   "outputs": [
    {
     "name": "stdout",
     "output_type": "stream",
     "text": [
      "From the given data, with 95% probability,\n",
      "the accuracy of the model is 91.61% +/- 8.39\n"
     ]
    },
    {
     "data": {
      "text/plain": [
       "(0.8321428571428571, 1.0)"
      ]
     },
     "execution_count": 40,
     "metadata": {},
     "output_type": "execute_result"
    }
   ],
   "source": [
    "get_confidence_interval(accs_run_1, 5)"
   ]
  },
  {
   "cell_type": "code",
   "execution_count": 41,
   "metadata": {},
   "outputs": [
    {
     "name": "stdout",
     "output_type": "stream",
     "text": [
      "Evaluating model on 100 samples of (X, y).\n",
      "Each sample will contain 105 elements from X, out of which 84 elements\n",
      "will be used to train the model, while the remaining 21 elements to test its accuracy.\n"
     ]
    },
    {
     "data": {
      "application/vnd.jupyter.widget-view+json": {
       "model_id": "77959e7a93594b939eec547e3855aa25",
       "version_major": 2,
       "version_minor": 0
      },
      "text/plain": [
       "HBox(children=(HTML(value=''), FloatProgress(value=0.0), HTML(value='')))"
      ]
     },
     "metadata": {},
     "output_type": "display_data"
    },
    {
     "name": "stdout",
     "output_type": "stream",
     "text": [
      "\n"
     ]
    }
   ],
   "source": [
    "accs_run_2=get_accuracy_on_samples(RandomForestClassifier, iris_X, iris_y,\n",
    "                             model_params_dict=rfc_params_dict,\n",
    "                             n_iterations=100, sample_ratio=0.7,\n",
    "                             train_ratio=0.8, random_seed=42,\n",
    "                             sample_with_replacement=True, verbose=True)"
   ]
  },
  {
   "cell_type": "code",
   "execution_count": 42,
   "metadata": {},
   "outputs": [
    {
     "data": {
      "text/plain": [
       "[(0, 0.9523809523809523),\n",
       " (1, 1.0),\n",
       " (2, 0.9047619047619048),\n",
       " (3, 0.9523809523809523),\n",
       " (4, 0.9523809523809523),\n",
       " (5, 1.0)]"
      ]
     },
     "execution_count": 42,
     "metadata": {},
     "output_type": "execute_result"
    }
   ],
   "source": [
    "# As you can see, the results are identical to the previous run of the function. Be aware that the results\n",
    "# also depend on the model's characteristic. As an example, if the random seed is set, but the model has \n",
    "# some sort of random initialization (i.e. Neural Networks), you will see different results although the\n",
    "# resampling was identical.\n",
    "\n",
    "[(k, accs_run_2[k]) for k in range(6)]"
   ]
  },
  {
   "cell_type": "code",
   "execution_count": 43,
   "metadata": {},
   "outputs": [
    {
     "name": "stdout",
     "output_type": "stream",
     "text": [
      "From the given data, with 95% probability,\n",
      "the accuracy of the model is 91.61% +/- 8.39\n"
     ]
    },
    {
     "data": {
      "text/plain": [
       "(0.8321428571428571, 1.0)"
      ]
     },
     "execution_count": 43,
     "metadata": {},
     "output_type": "execute_result"
    }
   ],
   "source": [
    "get_confidence_interval(accs_run_2, 5)"
   ]
  },
  {
   "cell_type": "code",
   "execution_count": null,
   "metadata": {},
   "outputs": [],
   "source": []
  },
  {
   "cell_type": "code",
   "execution_count": 44,
   "metadata": {},
   "outputs": [
    {
     "name": "stdout",
     "output_type": "stream",
     "text": [
      "Evaluating model on 100 samples of (X, y).\n",
      "Each sample will contain 105 elements from X, out of which 84 elements\n",
      "will be used to train the model, while the remaining 21 elements to test its accuracy.\n"
     ]
    },
    {
     "data": {
      "application/vnd.jupyter.widget-view+json": {
       "model_id": "9c0f25e9824448768d72d1c922bdfe8e",
       "version_major": 2,
       "version_minor": 0
      },
      "text/plain": [
       "HBox(children=(HTML(value=''), FloatProgress(value=0.0), HTML(value='')))"
      ]
     },
     "metadata": {},
     "output_type": "display_data"
    },
    {
     "name": "stdout",
     "output_type": "stream",
     "text": [
      "\n"
     ]
    }
   ],
   "source": [
    "# Here the random_seed param is set to None\n",
    "\n",
    "accs_run_3=get_accuracy_on_samples(RandomForestClassifier, iris_X, iris_y,\n",
    "                             model_params_dict=rfc_params_dict,\n",
    "                             n_iterations=100, sample_ratio=0.7,\n",
    "                             train_ratio=0.8, random_seed=None,\n",
    "                             sample_with_replacement=True, verbose=True)"
   ]
  },
  {
   "cell_type": "code",
   "execution_count": 45,
   "metadata": {},
   "outputs": [
    {
     "data": {
      "text/plain": [
       "[(0, 1.0),\n",
       " (1, 1.0),\n",
       " (2, 1.0),\n",
       " (3, 0.9523809523809523),\n",
       " (4, 1.0),\n",
       " (5, 0.8571428571428571)]"
      ]
     },
     "execution_count": 45,
     "metadata": {},
     "output_type": "execute_result"
    }
   ],
   "source": [
    "[(k, accs_run_3[k]) for k in range(6)]"
   ]
  },
  {
   "cell_type": "code",
   "execution_count": 46,
   "metadata": {},
   "outputs": [
    {
     "name": "stdout",
     "output_type": "stream",
     "text": [
      "From the given data, with 95% probability,\n",
      "the accuracy of the model is 92.86% +/- 7.14\n"
     ]
    },
    {
     "data": {
      "text/plain": [
       "(0.8571428571428571, 1.0)"
      ]
     },
     "execution_count": 46,
     "metadata": {},
     "output_type": "execute_result"
    }
   ],
   "source": [
    "get_confidence_interval(accs_run_3, 5)"
   ]
  },
  {
   "cell_type": "code",
   "execution_count": 47,
   "metadata": {},
   "outputs": [
    {
     "name": "stdout",
     "output_type": "stream",
     "text": [
      "Evaluating model on 100 samples of (X, y).\n",
      "Each sample will contain 105 elements from X, out of which 84 elements\n",
      "will be used to train the model, while the remaining 21 elements to test its accuracy.\n"
     ]
    },
    {
     "data": {
      "application/vnd.jupyter.widget-view+json": {
       "model_id": "15742442ea7147c582ae68e29cfde47d",
       "version_major": 2,
       "version_minor": 0
      },
      "text/plain": [
       "HBox(children=(HTML(value=''), FloatProgress(value=0.0), HTML(value='')))"
      ]
     },
     "metadata": {},
     "output_type": "display_data"
    },
    {
     "name": "stdout",
     "output_type": "stream",
     "text": [
      "\n"
     ]
    }
   ],
   "source": [
    "accs_run_4=get_accuracy_on_samples(RandomForestClassifier, iris_X, iris_y,\n",
    "                             model_params_dict=rfc_params_dict,\n",
    "                             n_iterations=100, sample_ratio=0.7,\n",
    "                             train_ratio=0.8, random_seed=None,\n",
    "                             sample_with_replacement=True, verbose=True)"
   ]
  },
  {
   "cell_type": "code",
   "execution_count": 48,
   "metadata": {},
   "outputs": [
    {
     "data": {
      "text/plain": [
       "[(0, 0.9047619047619048),\n",
       " (1, 1.0),\n",
       " (2, 0.9523809523809523),\n",
       " (3, 0.9523809523809523),\n",
       " (4, 0.9523809523809523),\n",
       " (5, 1.0)]"
      ]
     },
     "execution_count": 48,
     "metadata": {},
     "output_type": "execute_result"
    }
   ],
   "source": [
    "[(k, accs_run_4[k]) for k in range(6)]"
   ]
  },
  {
   "cell_type": "code",
   "execution_count": 49,
   "metadata": {},
   "outputs": [
    {
     "name": "stdout",
     "output_type": "stream",
     "text": [
      "From the given data, with 95% probability,\n",
      "the accuracy of the model is 95.24% +/- 4.76\n"
     ]
    },
    {
     "data": {
      "text/plain": [
       "(0.9047619047619048, 1.0)"
      ]
     },
     "execution_count": 49,
     "metadata": {},
     "output_type": "execute_result"
    }
   ],
   "source": [
    "get_confidence_interval(accs_run_4, 5)"
   ]
  },
  {
   "cell_type": "code",
   "execution_count": null,
   "metadata": {},
   "outputs": [],
   "source": []
  }
 ],
 "metadata": {
  "kernelspec": {
   "display_name": "Python 3",
   "language": "python",
   "name": "python3"
  },
  "language_info": {
   "codemirror_mode": {
    "name": "ipython",
    "version": 3
   },
   "file_extension": ".py",
   "mimetype": "text/x-python",
   "name": "python",
   "nbconvert_exporter": "python",
   "pygments_lexer": "ipython3",
   "version": "3.6.8"
  }
 },
 "nbformat": 4,
 "nbformat_minor": 4
}
