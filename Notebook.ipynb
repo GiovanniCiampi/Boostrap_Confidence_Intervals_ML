{
 "cells": [
  {
   "cell_type": "markdown",
   "metadata": {},
   "source": [
    "# Estimation of Confidence Intervals for Machine Learning\n",
    "This notebook presents the usage of python functions to perform empirical\n",
    "estimation of confidence intervals for machine learning models. This kind of confidence interval estimation is often\n",
    "called \"Bootstrap Confidence Interval\" or \"Monte Carlo Confidence Interval\" estimation."
   ]
  },
  {
   "cell_type": "code",
   "execution_count": 1,
   "metadata": {},
   "outputs": [],
   "source": [
    "import numpy as np\n",
    "from tqdm.auto import tqdm"
   ]
  },
  {
   "cell_type": "code",
   "execution_count": 2,
   "metadata": {},
   "outputs": [],
   "source": [
    "%%capture\n",
    "\n",
    "from keras.models import Sequential\n",
    "from keras.layers import Dense"
   ]
  },
  {
   "cell_type": "code",
   "execution_count": 3,
   "metadata": {},
   "outputs": [],
   "source": [
    "from sklearn.datasets import load_iris, load_breast_cancer\n",
    "\n",
    "from sklearn.preprocessing import OneHotEncoder\n",
    "\n",
    "from sklearn.model_selection import train_test_split\n",
    "\n",
    "from sklearn.ensemble import RandomForestClassifier \n",
    "from sklearn.neighbors import KNeighborsClassifier\n",
    "from sklearn.naive_bayes import GaussianNB"
   ]
  },
  {
   "cell_type": "code",
   "execution_count": 4,
   "metadata": {},
   "outputs": [],
   "source": [
    "import utils as cie"
   ]
  },
  {
   "cell_type": "code",
   "execution_count": 5,
   "metadata": {},
   "outputs": [],
   "source": [
    "import matplotlib.pyplot as plt"
   ]
  },
  {
   "cell_type": "markdown",
   "metadata": {},
   "source": [
    "# Basic Usage\n",
    "The basic usage of the functions is presented by computing different confidence intervals for a random-forest classifier over the iris dataset."
   ]
  },
  {
   "cell_type": "markdown",
   "metadata": {},
   "source": [
    "### Loading the Data"
   ]
  },
  {
   "cell_type": "code",
   "execution_count": 6,
   "metadata": {},
   "outputs": [],
   "source": [
    "# Data loading and presentation\n",
    "\n",
    "iris_dataset = load_iris()\n",
    "iris_X, iris_y = iris_dataset['data'], iris_dataset['target']"
   ]
  },
  {
   "cell_type": "code",
   "execution_count": 7,
   "metadata": {},
   "outputs": [
    {
     "data": {
      "text/plain": [
       "[(array([5.1, 3.5, 1.4, 0.2]), 0),\n",
       " (array([4.9, 3. , 1.4, 0.2]), 0),\n",
       " (array([4.7, 3.2, 1.3, 0.2]), 0),\n",
       " (array([4.6, 3.1, 1.5, 0.2]), 0),\n",
       " (array([5. , 3.6, 1.4, 0.2]), 0)]"
      ]
     },
     "execution_count": 7,
     "metadata": {},
     "output_type": "execute_result"
    }
   ],
   "source": [
    "[(a, b) for (a, b) in zip(iris_X, iris_y)][:5]"
   ]
  },
  {
   "cell_type": "code",
   "execution_count": 8,
   "metadata": {},
   "outputs": [
    {
     "data": {
      "text/plain": [
       "[(array([6.7, 3. , 5.2, 2.3]), 2),\n",
       " (array([6.3, 2.5, 5. , 1.9]), 2),\n",
       " (array([6.5, 3. , 5.2, 2. ]), 2),\n",
       " (array([6.2, 3.4, 5.4, 2.3]), 2),\n",
       " (array([5.9, 3. , 5.1, 1.8]), 2)]"
      ]
     },
     "execution_count": 8,
     "metadata": {},
     "output_type": "execute_result"
    }
   ],
   "source": [
    "[(a, b) for (a, b) in zip(iris_X, iris_y)][-5:]"
   ]
  },
  {
   "cell_type": "code",
   "execution_count": null,
   "metadata": {},
   "outputs": [],
   "source": []
  },
  {
   "cell_type": "markdown",
   "metadata": {},
   "source": [
    "## Parametric Estimation of Confidence Intervals\n",
    "In order to perform parametric estimation, we need to fit a classifier to the data and evaluate it"
   ]
  },
  {
   "cell_type": "code",
   "execution_count": 9,
   "metadata": {},
   "outputs": [],
   "source": [
    "clf = RandomForestClassifier(n_estimators=20, max_depth=3)"
   ]
  },
  {
   "cell_type": "code",
   "execution_count": 10,
   "metadata": {},
   "outputs": [
    {
     "data": {
      "text/plain": [
       "(100, 50)"
      ]
     },
     "execution_count": 10,
     "metadata": {},
     "output_type": "execute_result"
    }
   ],
   "source": [
    "X_train, X_test, y_train, y_test = train_test_split(iris_X, iris_y, test_size=0.33, random_state=24)\n",
    "len(X_train), len(X_test)"
   ]
  },
  {
   "cell_type": "code",
   "execution_count": 11,
   "metadata": {},
   "outputs": [
    {
     "data": {
      "text/plain": [
       "RandomForestClassifier(bootstrap=True, class_weight=None, criterion='gini',\n",
       "                       max_depth=3, max_features='auto', max_leaf_nodes=None,\n",
       "                       min_impurity_decrease=0.0, min_impurity_split=None,\n",
       "                       min_samples_leaf=1, min_samples_split=2,\n",
       "                       min_weight_fraction_leaf=0.0, n_estimators=20,\n",
       "                       n_jobs=None, oob_score=False, random_state=None,\n",
       "                       verbose=0, warm_start=False)"
      ]
     },
     "execution_count": 11,
     "metadata": {},
     "output_type": "execute_result"
    }
   ],
   "source": [
    "clf.fit(X_train, y_train)"
   ]
  },
  {
   "cell_type": "code",
   "execution_count": 12,
   "metadata": {},
   "outputs": [
    {
     "data": {
      "text/plain": [
       "array([2, 2, 1, 1, 2])"
      ]
     },
     "execution_count": 12,
     "metadata": {},
     "output_type": "execute_result"
    }
   ],
   "source": [
    "preds = clf.predict(X_test)\n",
    "preds[:5]"
   ]
  },
  {
   "cell_type": "code",
   "execution_count": 13,
   "metadata": {},
   "outputs": [
    {
     "name": "stdout",
     "output_type": "stream",
     "text": [
      "Accuracy is 0.98\n"
     ]
    }
   ],
   "source": [
    "accuracy = sum(preds == y_test)/len(y_test)\n",
    "print(f\"Accuracy is {accuracy}\")"
   ]
  },
  {
   "cell_type": "code",
   "execution_count": null,
   "metadata": {},
   "outputs": [],
   "source": []
  },
  {
   "cell_type": "markdown",
   "metadata": {},
   "source": [
    "### 90%, 95% and 99% Parametric Confidence Intervals"
   ]
  },
  {
   "cell_type": "code",
   "execution_count": 14,
   "metadata": {},
   "outputs": [
    {
     "data": {
      "text/plain": [
       "50"
      ]
     },
     "execution_count": 14,
     "metadata": {},
     "output_type": "execute_result"
    }
   ],
   "source": [
    "sample_size = len(X_test)\n",
    "sample_size"
   ]
  },
  {
   "cell_type": "code",
   "execution_count": 15,
   "metadata": {},
   "outputs": [
    {
     "name": "stdout",
     "output_type": "stream",
     "text": [
      "Computing C.I. assuming the data follow a standard normal distribution\n",
      "With 90.0% confidence the accuracy of the model is in 0.977 +/-0.023.\n"
     ]
    },
    {
     "data": {
      "text/plain": [
       "(0.9773132867658845, 0.02268671323411553)"
      ]
     },
     "execution_count": 15,
     "metadata": {},
     "output_type": "execute_result"
    }
   ],
   "source": [
    "param_90 = cie.parametric_confidence_interval(confidence_level=.9, mean=accuracy, sample_size=sample_size, verbose=True)\n",
    "param_90"
   ]
  },
  {
   "cell_type": "code",
   "execution_count": 16,
   "metadata": {},
   "outputs": [
    {
     "name": "stdout",
     "output_type": "stream",
     "text": [
      "Computing C.I. assuming the data follow a standard normal distribution\n",
      "With 95.0% confidence the accuracy of the model is in 0.974 +/-0.026.\n"
     ]
    }
   ],
   "source": [
    "param_95 = cie.parametric_confidence_interval(confidence_level=.95, mean=accuracy, sample_size=sample_size, verbose=True)"
   ]
  },
  {
   "cell_type": "code",
   "execution_count": 17,
   "metadata": {},
   "outputs": [
    {
     "name": "stdout",
     "output_type": "stream",
     "text": [
      "Computing C.I. assuming the data follow a standard normal distribution\n",
      "With 99.0% confidence the accuracy of the model is in 0.967 +/-0.033.\n"
     ]
    }
   ],
   "source": [
    "param_99 = cie.parametric_confidence_interval(confidence_level=.99, mean=accuracy, sample_size=sample_size, verbose=True)"
   ]
  },
  {
   "cell_type": "code",
   "execution_count": null,
   "metadata": {},
   "outputs": [],
   "source": []
  },
  {
   "cell_type": "code",
   "execution_count": 18,
   "metadata": {},
   "outputs": [
    {
     "data": {
      "image/png": "[encoded data removed]",
      "text/plain": [
       "<Figure size 432x288 with 1 Axes>"
      ]
     },
     "metadata": {
      "needs_background": "light"
     },
     "output_type": "display_data"
    }
   ],
   "source": [
    "cie.plot_util([param_90, param_95, param_99], ylim=(.8, 1.01))"
   ]
  },
  {
   "cell_type": "code",
   "execution_count": null,
   "metadata": {},
   "outputs": [],
   "source": []
  },
  {
   "cell_type": "markdown",
   "metadata": {},
   "source": [
    "## Parametric Estimation: t-student Distribution\n",
    "If the size of the sample for the evaluation of the model has less than 30 datapoints,the function performs the estimation of the confidence intervals under the assumption that the data was drawn from a t-student distribution. Confidence interval estimates with a small sample size tend to be much more unreliable and you should try, if possible, to avoid to use them."
   ]
  },
  {
   "cell_type": "code",
   "execution_count": 19,
   "metadata": {},
   "outputs": [],
   "source": [
    "clf = RandomForestClassifier(n_estimators=20, max_depth=3)"
   ]
  },
  {
   "cell_type": "code",
   "execution_count": 20,
   "metadata": {},
   "outputs": [
    {
     "data": {
      "text/plain": [
       "(121, 29)"
      ]
     },
     "execution_count": 20,
     "metadata": {},
     "output_type": "execute_result"
    }
   ],
   "source": [
    "X_train, X_test, y_train, y_test = train_test_split(iris_X, iris_y, test_size=0.19, random_state=42)\n",
    "len(X_train), len(X_test)"
   ]
  },
  {
   "cell_type": "code",
   "execution_count": 21,
   "metadata": {},
   "outputs": [
    {
     "data": {
      "text/plain": [
       "RandomForestClassifier(bootstrap=True, class_weight=None, criterion='gini',\n",
       "                       max_depth=3, max_features='auto', max_leaf_nodes=None,\n",
       "                       min_impurity_decrease=0.0, min_impurity_split=None,\n",
       "                       min_samples_leaf=1, min_samples_split=2,\n",
       "                       min_weight_fraction_leaf=0.0, n_estimators=20,\n",
       "                       n_jobs=None, oob_score=False, random_state=None,\n",
       "                       verbose=0, warm_start=False)"
      ]
     },
     "execution_count": 21,
     "metadata": {},
     "output_type": "execute_result"
    }
   ],
   "source": [
    "clf.fit(X_train, y_train)"
   ]
  },
  {
   "cell_type": "code",
   "execution_count": 22,
   "metadata": {},
   "outputs": [
    {
     "name": "stdout",
     "output_type": "stream",
     "text": [
      "Accuracy is 1.0%\n"
     ]
    }
   ],
   "source": [
    "preds = clf.predict(X_test)\n",
    "accuracy = sum(preds == y_test)/len(y_test)\n",
    "print(f\"Accuracy is {accuracy}%\")"
   ]
  },
  {
   "cell_type": "code",
   "execution_count": 23,
   "metadata": {},
   "outputs": [
    {
     "data": {
      "text/plain": [
       "29"
      ]
     },
     "execution_count": 23,
     "metadata": {},
     "output_type": "execute_result"
    }
   ],
   "source": [
    "sample_size = len(X_test)\n",
    "sample_size"
   ]
  },
  {
   "cell_type": "code",
   "execution_count": 24,
   "metadata": {},
   "outputs": [
    {
     "name": "stdout",
     "output_type": "stream",
     "text": [
      "Computing C.I. assuming the data follow a t-distribution (sample_size < 30)\n",
      "With 90.0% confidence the accuracy of the model is in 1.0 +/-0.0.\n"
     ]
    },
    {
     "data": {
      "text/plain": [
       "(1.0, 0.0)"
      ]
     },
     "execution_count": 24,
     "metadata": {},
     "output_type": "execute_result"
    }
   ],
   "source": [
    "cie.parametric_confidence_interval(confidence_level=.9, mean=accuracy, sample_size=sample_size, verbose=True)"
   ]
  },
  {
   "cell_type": "code",
   "execution_count": 25,
   "metadata": {},
   "outputs": [
    {
     "name": "stdout",
     "output_type": "stream",
     "text": [
      "Computing C.I. assuming the data follow a t-distribution (sample_size < 30)\n",
      "With 95.0% confidence the accuracy of the model is in 1.0 +/-0.0.\n"
     ]
    },
    {
     "data": {
      "text/plain": [
       "(1.0, 0.0)"
      ]
     },
     "execution_count": 25,
     "metadata": {},
     "output_type": "execute_result"
    }
   ],
   "source": [
    "cie.parametric_confidence_interval(confidence_level=.95, mean=accuracy, sample_size=sample_size, verbose=True)"
   ]
  },
  {
   "cell_type": "code",
   "execution_count": null,
   "metadata": {},
   "outputs": [],
   "source": []
  },
  {
   "cell_type": "markdown",
   "metadata": {},
   "source": [
    "## Non-Parametric Estimation of Confidence Intervals\n",
    "In order to perform non-parametric estimation, we need to fit several classifier to resamplings of the original dataset."
   ]
  },
  {
   "cell_type": "code",
   "execution_count": 26,
   "metadata": {},
   "outputs": [],
   "source": [
    "# These parameters will be passed to the constructor of RandomForestClassifier for the creation of each new instance\n",
    "# Notice that the values are the same of the classifier instantiated for parametric estimation.\n",
    "\n",
    "rfc_params_dict = {\"n_estimators\":20, \"max_depth\":3}"
   ]
  },
  {
   "cell_type": "code",
   "execution_count": 27,
   "metadata": {},
   "outputs": [
    {
     "name": "stdout",
     "output_type": "stream",
     "text": [
      "Evaluating model on 100 samples of (X, y).\n",
      "Each sample will contain 150 elements from (X, y), out of which 100 elements\n",
      "will be used to train the model, while the remaining 50 elements to test its accuracy.\n"
     ]
    },
    {
     "data": {
      "application/vnd.jupyter.widget-view+json": {
       "model_id": "05c238a298fd4013a7df4571259919d7",
       "version_major": 2,
       "version_minor": 0
      },
      "text/plain": [
       "HBox(children=(HTML(value=''), FloatProgress(value=0.0), HTML(value='')))"
      ]
     },
     "metadata": {},
     "output_type": "display_data"
    },
    {
     "name": "stdout",
     "output_type": "stream",
     "text": [
      "\n"
     ]
    }
   ],
   "source": [
    "# The accuracy of a random-forest classifier is evaluated on 100 samples of the iris dataset. Each sample is sampled\n",
    "# with replacement from the original dataset.\n",
    "\n",
    "accs=cie.get_accuracy_samples(RandomForestClassifier, iris_X, iris_y,\n",
    "                             model_params_dict=rfc_params_dict,\n",
    "                             n_iterations=100, sample_ratio=1,\n",
    "                             train_ratio=0.67, random_seed=None,\n",
    "                             sample_with_replacement=True, verbose=True)"
   ]
  },
  {
   "cell_type": "code",
   "execution_count": 28,
   "metadata": {},
   "outputs": [
    {
     "data": {
      "text/plain": [
       "[(0, 0.98), (1, 0.96), (2, 0.96), (3, 1.0), (4, 1.0)]"
      ]
     },
     "execution_count": 28,
     "metadata": {},
     "output_type": "execute_result"
    }
   ],
   "source": [
    "[(k, accs[k]) for k in range(5)]"
   ]
  },
  {
   "cell_type": "code",
   "execution_count": 29,
   "metadata": {},
   "outputs": [
    {
     "name": "stdout",
     "output_type": "stream",
     "text": [
      "From the given data, with 90.0% confidence the accuracy of the model is in 0.95 +/-0.05.\n"
     ]
    },
    {
     "data": {
      "text/plain": [
       "(0.95, 0.04999999999999993)"
      ]
     },
     "execution_count": 29,
     "metadata": {},
     "output_type": "execute_result"
    }
   ],
   "source": [
    "# Confidence intervals are estimated from the performance of the models in the 100 evaluations.\n",
    "\n",
    "nonparam_90=cie.nonparametric_confidence_interval(accs, .9)\n",
    "nonparam_90"
   ]
  },
  {
   "cell_type": "code",
   "execution_count": 30,
   "metadata": {},
   "outputs": [
    {
     "name": "stdout",
     "output_type": "stream",
     "text": [
      "From the given data, with 95.0% confidence the accuracy of the model is in 0.95 +/-0.05.\n"
     ]
    }
   ],
   "source": [
    "nonparam_95=cie.nonparametric_confidence_interval(accs, .95)"
   ]
  },
  {
   "cell_type": "code",
   "execution_count": 31,
   "metadata": {},
   "outputs": [
    {
     "name": "stdout",
     "output_type": "stream",
     "text": [
      "From the given data, with 99.0% confidence the accuracy of the model is in 0.94 +/-0.06.\n"
     ]
    }
   ],
   "source": [
    "nonparam_99=cie.nonparametric_confidence_interval(accs, .99)"
   ]
  },
  {
   "cell_type": "code",
   "execution_count": null,
   "metadata": {},
   "outputs": [],
   "source": []
  },
  {
   "cell_type": "markdown",
   "metadata": {},
   "source": [
    "## Comparison of the Estimates\n",
    "The following plot compares nonparametric and parametric estimates."
   ]
  },
  {
   "cell_type": "code",
   "execution_count": 32,
   "metadata": {},
   "outputs": [
    {
     "data": {
      "image/png": "[encoded data removed]",
      "text/plain": [
       "<Figure size 432x288 with 1 Axes>"
      ]
     },
     "metadata": {
      "needs_background": "light"
     },
     "output_type": "display_data"
    }
   ],
   "source": [
    "cie.plot_util(intervals_A=[param_90, param_95, param_99],\n",
    "              intervals_B=[nonparam_90, nonparam_95, nonparam_99],\n",
    "              label_A=\"Parametric\", label_B=\"Non-Parametric\", ylim=(0.8, 1.01))"
   ]
  },
  {
   "cell_type": "code",
   "execution_count": null,
   "metadata": {},
   "outputs": [],
   "source": []
  },
  {
   "cell_type": "markdown",
   "metadata": {},
   "source": [
    "# Neural Networks and One-Hot-Encoding\n",
    "The following example shows how to use the functions with simple neural networks and one hot encoding of labels."
   ]
  },
  {
   "cell_type": "code",
   "execution_count": 33,
   "metadata": {},
   "outputs": [],
   "source": [
    "%%capture\n",
    "iris_y_onehot = OneHotEncoder().fit_transform(iris_y.reshape(-1, 1)).toarray()"
   ]
  },
  {
   "cell_type": "code",
   "execution_count": 34,
   "metadata": {},
   "outputs": [
    {
     "data": {
      "text/plain": [
       "(100, 50)"
      ]
     },
     "execution_count": 34,
     "metadata": {},
     "output_type": "execute_result"
    }
   ],
   "source": [
    "X_train, X_test, y_train_onehot, y_test_onehot = train_test_split(iris_X, iris_y_onehot, test_size=0.33, random_state=42)\n",
    "len(X_train), len(X_test)"
   ]
  },
  {
   "cell_type": "code",
   "execution_count": 35,
   "metadata": {},
   "outputs": [
    {
     "data": {
      "text/plain": [
       "array([[0., 1., 0.],\n",
       "       [0., 0., 1.],\n",
       "       [0., 1., 0.],\n",
       "       [1., 0., 0.],\n",
       "       [0., 0., 1.]])"
      ]
     },
     "execution_count": 35,
     "metadata": {},
     "output_type": "execute_result"
    }
   ],
   "source": [
    "y_train_onehot[:5]"
   ]
  },
  {
   "cell_type": "code",
   "execution_count": 36,
   "metadata": {},
   "outputs": [],
   "source": [
    "# The following function will return instances of the model\n",
    "\n",
    "def get_model(hidden_units,  n_output_units, hidden_activation=\"relu\",\n",
    "              output_activation=\"softmax\", loss=\"binary_crossentropy\",\n",
    "              optimizer=\"adam\", metric=\"accuracy\"):\n",
    "    model = Sequential()\n",
    "    \n",
    "    for u in hidden_units:\n",
    "        model.add(Dense(u, activation=hidden_activation))\n",
    "    model.add(Dense(n_output_units, activation=output_activation))\n",
    "    \n",
    "    model.compile(loss=loss, optimizer=optimizer, metrics=[metric])\n",
    "    return model"
   ]
  },
  {
   "cell_type": "code",
   "execution_count": null,
   "metadata": {},
   "outputs": [],
   "source": []
  },
  {
   "cell_type": "markdown",
   "metadata": {},
   "source": [
    "## Parametric Estimation\n",
    "The parametric estimation is shown to give an example of how the model works and to compare it to the nonparametric estimate."
   ]
  },
  {
   "cell_type": "code",
   "execution_count": 37,
   "metadata": {},
   "outputs": [],
   "source": [
    "model = get_model(hidden_units=[30, 20, 10],  n_output_units=3)"
   ]
  },
  {
   "cell_type": "code",
   "execution_count": 38,
   "metadata": {},
   "outputs": [],
   "source": [
    "%%capture\n",
    "\n",
    "model.fit(X_train, y_train_onehot, epochs = 50, verbose=0, batch_size=10)"
   ]
  },
  {
   "cell_type": "code",
   "execution_count": 39,
   "metadata": {},
   "outputs": [
    {
     "data": {
      "text/plain": [
       "array([[4.6857153e-03, 9.6951354e-01, 2.5800724e-02],\n",
       "       [4.4403583e-07, 8.2842354e-03, 9.9171537e-01],\n",
       "       [1.8619797e-03, 8.0265957e-01, 1.9547836e-01]], dtype=float32)"
      ]
     },
     "execution_count": 39,
     "metadata": {},
     "output_type": "execute_result"
    }
   ],
   "source": [
    "model.predict(X_train[:3])"
   ]
  },
  {
   "cell_type": "code",
   "execution_count": 40,
   "metadata": {},
   "outputs": [
    {
     "name": "stdout",
     "output_type": "stream",
     "text": [
      "100/100 [==============================] - 0s 295us/step\n"
     ]
    },
    {
     "data": {
      "text/plain": [
       "[0.06419484227895737, 0.986666738986969]"
      ]
     },
     "execution_count": 40,
     "metadata": {},
     "output_type": "execute_result"
    }
   ],
   "source": [
    "model.evaluate(X_train, y_train_onehot)"
   ]
  },
  {
   "cell_type": "code",
   "execution_count": 41,
   "metadata": {},
   "outputs": [
    {
     "name": "stdout",
     "output_type": "stream",
     "text": [
      "50/50 [==============================] - 0s 54us/step\n"
     ]
    },
    {
     "data": {
      "text/plain": [
       "(0.06085592210292816, 0.986666738986969)"
      ]
     },
     "execution_count": 41,
     "metadata": {},
     "output_type": "execute_result"
    }
   ],
   "source": [
    "(loss, acc) = model.evaluate(X_test, y_test_onehot)\n",
    "loss, acc"
   ]
  },
  {
   "cell_type": "code",
   "execution_count": null,
   "metadata": {},
   "outputs": [],
   "source": []
  },
  {
   "cell_type": "code",
   "execution_count": 42,
   "metadata": {},
   "outputs": [
    {
     "name": "stdout",
     "output_type": "stream",
     "text": [
      "Computing C.I. assuming the data follow a standard normal distribution\n",
      "With 90.0% confidence the accuracy of the model is in 0.983 +/-0.017.\n"
     ]
    },
    {
     "data": {
      "text/plain": [
       "(0.9829395655094056, 0.017060434490594356)"
      ]
     },
     "execution_count": 42,
     "metadata": {},
     "output_type": "execute_result"
    }
   ],
   "source": [
    "param_90 = cie.parametric_confidence_interval(confidence_level=.9, mean=acc, sample_size=50, verbose=True)\n",
    "param_90"
   ]
  },
  {
   "cell_type": "code",
   "execution_count": 43,
   "metadata": {},
   "outputs": [
    {
     "name": "stdout",
     "output_type": "stream",
     "text": [
      "Computing C.I. assuming the data follow a standard normal distribution\n",
      "With 95.0% confidence the accuracy of the model is in 0.98 +/-0.02.\n"
     ]
    }
   ],
   "source": [
    "param_95 = cie.parametric_confidence_interval(confidence_level=.95, mean=acc, sample_size=50, verbose=True)"
   ]
  },
  {
   "cell_type": "code",
   "execution_count": 44,
   "metadata": {},
   "outputs": [
    {
     "name": "stdout",
     "output_type": "stream",
     "text": [
      "Computing C.I. assuming the data follow a standard normal distribution\n",
      "With 99.0% confidence the accuracy of the model is in 0.974 +/-0.026.\n"
     ]
    }
   ],
   "source": [
    "param_99 = cie.parametric_confidence_interval(confidence_level=.99, mean=acc, sample_size=50, verbose=True)"
   ]
  },
  {
   "cell_type": "code",
   "execution_count": null,
   "metadata": {},
   "outputs": [],
   "source": []
  },
  {
   "cell_type": "markdown",
   "metadata": {},
   "source": [
    "## Non-Parametric Estimation"
   ]
  },
  {
   "cell_type": "code",
   "execution_count": 45,
   "metadata": {},
   "outputs": [],
   "source": [
    "dnn_params_dict = {'hidden_units':[30, 20, 10], 'hidden_activation':\"relu\", 'n_output_units':3,\n",
    "                   'output_activation':\"softmax\", 'loss':'binary_crossentropy', 'optimizer':'adam'}\n",
    "\n",
    "# These parameters will be passed to the network on the calls of the fit method.\n",
    "dnn_fit_params_dict={'epochs':50, 'batch_size':10, 'verbose':0}"
   ]
  },
  {
   "cell_type": "code",
   "execution_count": null,
   "metadata": {},
   "outputs": [],
   "source": []
  },
  {
   "cell_type": "code",
   "execution_count": 46,
   "metadata": {},
   "outputs": [
    {
     "name": "stdout",
     "output_type": "stream",
     "text": [
      "Evaluating model on 20 samples of (X, y).\n",
      "Each sample will contain 150 elements from (X, y), out of which 100 elements\n",
      "will be used to train the model, while the remaining 50 elements to test its accuracy.\n"
     ]
    },
    {
     "data": {
      "application/vnd.jupyter.widget-view+json": {
       "model_id": "87f934c8d12e4587b023cad5afc3844b",
       "version_major": 2,
       "version_minor": 0
      },
      "text/plain": [
       "HBox(children=(HTML(value=''), FloatProgress(value=0.0, max=20.0), HTML(value='')))"
      ]
     },
     "metadata": {},
     "output_type": "display_data"
    },
    {
     "name": "stdout",
     "output_type": "stream",
     "text": [
      "\n"
     ]
    }
   ],
   "source": [
    "accs=cie.get_accuracy_samples(get_model, iris_X, iris_y_onehot, model_params_dict=dnn_params_dict,\n",
    "                            fit_params_dict=dnn_fit_params_dict, n_iterations=20, sample_ratio=1,\n",
    "                            train_ratio=0.67, random_seed=42, sample_with_replacement=True,\n",
    "                             verbose=True, is_one_hot=True)"
   ]
  },
  {
   "cell_type": "code",
   "execution_count": 47,
   "metadata": {},
   "outputs": [
    {
     "name": "stdout",
     "output_type": "stream",
     "text": [
      "From the given data, with 90.0% confidence the accuracy of the model is in 0.95 +/-0.05.\n"
     ]
    },
    {
     "data": {
      "text/plain": [
       "(0.95, 0.04999999999999993)"
      ]
     },
     "execution_count": 47,
     "metadata": {},
     "output_type": "execute_result"
    }
   ],
   "source": [
    "nonparam_90=cie.nonparametric_confidence_interval(accs, .9)\n",
    "nonparam_90"
   ]
  },
  {
   "cell_type": "code",
   "execution_count": 48,
   "metadata": {},
   "outputs": [
    {
     "name": "stdout",
     "output_type": "stream",
     "text": [
      "From the given data, with 95.0% confidence the accuracy of the model is in 0.95 +/-0.05.\n"
     ]
    }
   ],
   "source": [
    "nonparam_95=cie.nonparametric_confidence_interval(accs, .95)"
   ]
  },
  {
   "cell_type": "code",
   "execution_count": 49,
   "metadata": {},
   "outputs": [
    {
     "name": "stdout",
     "output_type": "stream",
     "text": [
      "From the given data, with 99.0% confidence the accuracy of the model is in 0.95 +/-0.05.\n"
     ]
    }
   ],
   "source": [
    "nonparam_99=cie.nonparametric_confidence_interval(accs, .99)"
   ]
  },
  {
   "cell_type": "code",
   "execution_count": null,
   "metadata": {},
   "outputs": [],
   "source": []
  },
  {
   "cell_type": "markdown",
   "metadata": {},
   "source": [
    "## Comparison Plot"
   ]
  },
  {
   "cell_type": "code",
   "execution_count": 50,
   "metadata": {},
   "outputs": [
    {
     "data": {
      "image/png": "[encoded data removed]",
      "text/plain": [
       "<Figure size 432x288 with 1 Axes>"
      ]
     },
     "metadata": {
      "needs_background": "light"
     },
     "output_type": "display_data"
    }
   ],
   "source": [
    "cie.plot_util(intervals_A=[param_90, param_95, param_99],\n",
    "              intervals_B=[nonparam_90, nonparam_95, nonparam_99],\n",
    "              label_A=\"Parametric\", label_B=\"Non-Parametric\", ylim=(0.8, 1.01))"
   ]
  },
  {
   "cell_type": "code",
   "execution_count": null,
   "metadata": {},
   "outputs": [],
   "source": []
  },
  {
   "cell_type": "markdown",
   "metadata": {},
   "source": [
    "# Hyperparameter Tuning and Plots\n",
    "The following example shows how to compute confidence intervals during the tuning of hyperparameters and how to plot them.  "
   ]
  },
  {
   "cell_type": "code",
   "execution_count": 51,
   "metadata": {},
   "outputs": [
    {
     "data": {
      "text/plain": [
       "[(array([1.799e+01, 1.038e+01, 1.228e+02, 1.001e+03, 1.184e-01]), 0),\n",
       " (array([2.057e+01, 1.777e+01, 1.329e+02, 1.326e+03, 8.474e-02]), 0)]"
      ]
     },
     "execution_count": 51,
     "metadata": {},
     "output_type": "execute_result"
    }
   ],
   "source": [
    "# Data loading and presentation\n",
    "\n",
    "cancer_dataset = load_breast_cancer()\n",
    "cancer_X, cancer_y = cancer_dataset['data'], cancer_dataset['target']\n",
    "[(a[:5], b) for (a, b) in zip(cancer_X, cancer_y)][:2]"
   ]
  },
  {
   "cell_type": "code",
   "execution_count": 52,
   "metadata": {},
   "outputs": [
    {
     "data": {
      "text/plain": [
       "[(array([2.060e+01, 2.933e+01, 1.401e+02, 1.265e+03, 1.178e-01]), 0),\n",
       " (array([7.760e+00, 2.454e+01, 4.792e+01, 1.810e+02, 5.263e-02]), 1)]"
      ]
     },
     "execution_count": 52,
     "metadata": {},
     "output_type": "execute_result"
    }
   ],
   "source": [
    "[(a[:5], b) for (a, b) in zip(cancer_X, cancer_y)][-2:]"
   ]
  },
  {
   "cell_type": "code",
   "execution_count": null,
   "metadata": {},
   "outputs": [],
   "source": []
  },
  {
   "cell_type": "code",
   "execution_count": 53,
   "metadata": {},
   "outputs": [],
   "source": [
    "neigbhors= [1, 3, 5, 7, 10, 15, 20, 50, 75, 100, 150, 200]\n",
    "nn_params_dict = {\"n_neighbors\":None}"
   ]
  },
  {
   "cell_type": "code",
   "execution_count": 54,
   "metadata": {},
   "outputs": [
    {
     "data": {
      "application/vnd.jupyter.widget-view+json": {
       "model_id": "ae00cf54f4704ceb92cfc4c5bcdb0cf3",
       "version_major": 2,
       "version_minor": 0
      },
      "text/plain": [
       "HBox(children=(HTML(value=''), FloatProgress(value=0.0, max=12.0), HTML(value='')))"
      ]
     },
     "metadata": {},
     "output_type": "display_data"
    },
    {
     "name": "stdout",
     "output_type": "stream",
     "text": [
      "\n"
     ]
    }
   ],
   "source": [
    "# As an example we will test different hyperparameters for KNN classifiers.\n",
    "\n",
    "confidence = {90:[], 95:[], 99:[]}\n",
    "for k in tqdm(neigbhors):\n",
    "    nn_params_dict[\"n_neighbors\"]=k\n",
    "    accs=cie.get_accuracy_samples(KNeighborsClassifier, cancer_X, cancer_y,\n",
    "                             model_params_dict=nn_params_dict,\n",
    "                             n_iterations=100, sample_ratio=0.7,\n",
    "                             train_ratio=0.7, random_seed=42,\n",
    "                             sample_with_replacement=True,\n",
    "                             verbose=False, progress_bar=False)\n",
    "    \n",
    "    confidence[90].append(cie.nonparametric_confidence_interval(accs, .9, verbose=False))\n",
    "    confidence[95].append(cie.nonparametric_confidence_interval(accs, .95, verbose=False))\n",
    "    confidence[99].append(cie.nonparametric_confidence_interval(accs, .99, verbose=False))"
   ]
  },
  {
   "cell_type": "code",
   "execution_count": 55,
   "metadata": {},
   "outputs": [
    {
     "name": "stdout",
     "output_type": "stream",
     "text": [
      "Accuracy with 90% confidence:\n"
     ]
    },
    {
     "data": {
      "image/png": "[encoded data removed]",
      "text/plain": [
       "<Figure size 432x288 with 1 Axes>"
      ]
     },
     "metadata": {
      "needs_background": "light"
     },
     "output_type": "display_data"
    }
   ],
   "source": [
    "print(\"Accuracy with 90% confidence:\")\n",
    "cie.plot_util(confidence[90], x_ticks=neigbhors, ylim=None, xlabel=\"N of neighbors\", ylabel=\"Accuracy\")"
   ]
  },
  {
   "cell_type": "code",
   "execution_count": 56,
   "metadata": {},
   "outputs": [
    {
     "name": "stdout",
     "output_type": "stream",
     "text": [
      "Accuracy with 95% confidence:\n"
     ]
    },
    {
     "data": {
      "image/png": "[encoded data removed]",
      "text/plain": [
       "<Figure size 432x288 with 1 Axes>"
      ]
     },
     "metadata": {
      "needs_background": "light"
     },
     "output_type": "display_data"
    }
   ],
   "source": [
    "print(\"Accuracy with 95% confidence:\")\n",
    "cie.plot_util(confidence[95], x_ticks=neigbhors, ylim=None, xlabel=\"N of neighbors\", ylabel=\"Accuracy\")"
   ]
  },
  {
   "cell_type": "code",
   "execution_count": 57,
   "metadata": {},
   "outputs": [
    {
     "name": "stdout",
     "output_type": "stream",
     "text": [
      "Accuracy with 99% confidence:\n"
     ]
    },
    {
     "data": {
      "image/png": "[encoded data removed]",
      "text/plain": [
       "<Figure size 432x288 with 1 Axes>"
      ]
     },
     "metadata": {
      "needs_background": "light"
     },
     "output_type": "display_data"
    }
   ],
   "source": [
    "print(\"Accuracy with 99% confidence:\")\n",
    "cie.plot_util(confidence[99], x_ticks=neigbhors, ylim=None, xlabel=\"N of neighbors\", ylabel=\"Accuracy\")"
   ]
  },
  {
   "cell_type": "code",
   "execution_count": null,
   "metadata": {},
   "outputs": [],
   "source": []
  },
  {
   "cell_type": "markdown",
   "metadata": {},
   "source": [
    "# Deterministic Resampling\n",
    "The following example shows the usage of the $\\texttt{random_seed}$ parameter."
   ]
  },
  {
   "cell_type": "code",
   "execution_count": 58,
   "metadata": {},
   "outputs": [
    {
     "name": "stdout",
     "output_type": "stream",
     "text": [
      "Evaluating model on 100 samples of (X, y).\n",
      "Each sample will contain 398 elements from (X, y), out of which 318 elements\n",
      "will be used to train the model, while the remaining 80 elements to test its accuracy.\n"
     ]
    },
    {
     "data": {
      "application/vnd.jupyter.widget-view+json": {
       "model_id": "5cf04bae6d1c4e20aca89466f181c217",
       "version_major": 2,
       "version_minor": 0
      },
      "text/plain": [
       "HBox(children=(HTML(value=''), FloatProgress(value=0.0), HTML(value='')))"
      ]
     },
     "metadata": {},
     "output_type": "display_data"
    },
    {
     "name": "stdout",
     "output_type": "stream",
     "text": [
      "\n"
     ]
    }
   ],
   "source": [
    "# Here the random_seed param is set.\n",
    "\n",
    "accs_run_1=cie.get_accuracy_samples(GaussianNB, cancer_X, cancer_y,\n",
    "                             n_iterations=100, sample_ratio=0.7,\n",
    "                             train_ratio=0.8, random_seed=42,\n",
    "                             sample_with_replacement=True, verbose=True)"
   ]
  },
  {
   "cell_type": "code",
   "execution_count": 59,
   "metadata": {},
   "outputs": [
    {
     "data": {
      "text/plain": [
       "[(0, 0.95), (1, 0.9), (2, 0.8875), (3, 0.9625), (4, 0.9625), (5, 0.8625)]"
      ]
     },
     "execution_count": 59,
     "metadata": {},
     "output_type": "execute_result"
    }
   ],
   "source": [
    "[(k, accs_run_1[k]) for k in range(6)]"
   ]
  },
  {
   "cell_type": "code",
   "execution_count": 60,
   "metadata": {},
   "outputs": [
    {
     "name": "stdout",
     "output_type": "stream",
     "text": [
      "From the given data, with 95.0% confidence the accuracy of the model is in 0.934 +/-0.053.\n"
     ]
    },
    {
     "data": {
      "text/plain": [
       "(0.93421875, 0.05328125000000006)"
      ]
     },
     "execution_count": 60,
     "metadata": {},
     "output_type": "execute_result"
    }
   ],
   "source": [
    "cie.nonparametric_confidence_interval(accs_run_1, .95)"
   ]
  },
  {
   "cell_type": "code",
   "execution_count": 61,
   "metadata": {},
   "outputs": [
    {
     "name": "stdout",
     "output_type": "stream",
     "text": [
      "Evaluating model on 100 samples of (X, y).\n",
      "Each sample will contain 398 elements from (X, y), out of which 318 elements\n",
      "will be used to train the model, while the remaining 80 elements to test its accuracy.\n"
     ]
    },
    {
     "data": {
      "application/vnd.jupyter.widget-view+json": {
       "model_id": "aa2ca98efe504a57b4877c61a16fb044",
       "version_major": 2,
       "version_minor": 0
      },
      "text/plain": [
       "HBox(children=(HTML(value=''), FloatProgress(value=0.0), HTML(value='')))"
      ]
     },
     "metadata": {},
     "output_type": "display_data"
    },
    {
     "name": "stdout",
     "output_type": "stream",
     "text": [
      "\n"
     ]
    }
   ],
   "source": [
    "accs_run_2=cie.get_accuracy_samples(GaussianNB, cancer_X, cancer_y,\n",
    "                             n_iterations=100, sample_ratio=0.7,\n",
    "                             train_ratio=0.8, random_seed=42,\n",
    "                             sample_with_replacement=True, verbose=True)"
   ]
  },
  {
   "cell_type": "code",
   "execution_count": 62,
   "metadata": {},
   "outputs": [
    {
     "data": {
      "text/plain": [
       "[(0, 0.95), (1, 0.9), (2, 0.8875), (3, 0.9625), (4, 0.9625), (5, 0.8625)]"
      ]
     },
     "execution_count": 62,
     "metadata": {},
     "output_type": "execute_result"
    }
   ],
   "source": [
    "# As you can see, the results are identical to the previous run of the function. Be aware that the results\n",
    "# also depend on the model's characteristic. As an example, if the random seed is set, but the model has \n",
    "# some sort of random initialization (i.e. Neural Networks), you may see different results although the\n",
    "# resampling of the data was identical.\n",
    "\n",
    "[(k, accs_run_2[k]) for k in range(6)]"
   ]
  },
  {
   "cell_type": "code",
   "execution_count": 63,
   "metadata": {},
   "outputs": [
    {
     "name": "stdout",
     "output_type": "stream",
     "text": [
      "From the given data, with 95.0% confidence the accuracy of the model is in 0.934 +/-0.053.\n"
     ]
    },
    {
     "data": {
      "text/plain": [
       "(0.93421875, 0.05328125000000006)"
      ]
     },
     "execution_count": 63,
     "metadata": {},
     "output_type": "execute_result"
    }
   ],
   "source": [
    "cie.nonparametric_confidence_interval(accs_run_2, .95)"
   ]
  },
  {
   "cell_type": "code",
   "execution_count": null,
   "metadata": {},
   "outputs": [],
   "source": []
  },
  {
   "cell_type": "code",
   "execution_count": 64,
   "metadata": {},
   "outputs": [
    {
     "name": "stdout",
     "output_type": "stream",
     "text": [
      "Evaluating model on 100 samples of (X, y).\n",
      "Each sample will contain 398 elements from (X, y), out of which 318 elements\n",
      "will be used to train the model, while the remaining 80 elements to test its accuracy.\n"
     ]
    },
    {
     "data": {
      "application/vnd.jupyter.widget-view+json": {
       "model_id": "6e1f7695f73a4abdb8461f71f9778f91",
       "version_major": 2,
       "version_minor": 0
      },
      "text/plain": [
       "HBox(children=(HTML(value=''), FloatProgress(value=0.0), HTML(value='')))"
      ]
     },
     "metadata": {},
     "output_type": "display_data"
    },
    {
     "name": "stdout",
     "output_type": "stream",
     "text": [
      "\n"
     ]
    }
   ],
   "source": [
    "# Here the random_seed param is set to None\n",
    "\n",
    "accs_run_3=cie.get_accuracy_samples(GaussianNB, cancer_X, cancer_y,\n",
    "                             n_iterations=100, sample_ratio=0.7,\n",
    "                             train_ratio=0.8, random_seed=None,\n",
    "                             sample_with_replacement=True, verbose=True)"
   ]
  },
  {
   "cell_type": "code",
   "execution_count": 65,
   "metadata": {},
   "outputs": [
    {
     "data": {
      "text/plain": [
       "[(0, 0.9125), (1, 0.95), (2, 0.95), (3, 0.9), (4, 0.975), (5, 0.95)]"
      ]
     },
     "execution_count": 65,
     "metadata": {},
     "output_type": "execute_result"
    }
   ],
   "source": [
    "[(k, accs_run_3[k]) for k in range(6)]"
   ]
  },
  {
   "cell_type": "code",
   "execution_count": 66,
   "metadata": {},
   "outputs": [
    {
     "name": "stdout",
     "output_type": "stream",
     "text": [
      "From the given data, with 95.0% confidence the accuracy of the model is in 0.931 +/-0.056.\n"
     ]
    },
    {
     "data": {
      "text/plain": [
       "(0.93125, 0.05625000000000002)"
      ]
     },
     "execution_count": 66,
     "metadata": {},
     "output_type": "execute_result"
    }
   ],
   "source": [
    "cie.nonparametric_confidence_interval(accs_run_3, .95)"
   ]
  },
  {
   "cell_type": "code",
   "execution_count": 67,
   "metadata": {},
   "outputs": [
    {
     "name": "stdout",
     "output_type": "stream",
     "text": [
      "Evaluating model on 100 samples of (X, y).\n",
      "Each sample will contain 398 elements from (X, y), out of which 318 elements\n",
      "will be used to train the model, while the remaining 80 elements to test its accuracy.\n"
     ]
    },
    {
     "data": {
      "application/vnd.jupyter.widget-view+json": {
       "model_id": "235976c91fa64376958dfb83c592adaf",
       "version_major": 2,
       "version_minor": 0
      },
      "text/plain": [
       "HBox(children=(HTML(value=''), FloatProgress(value=0.0), HTML(value='')))"
      ]
     },
     "metadata": {},
     "output_type": "display_data"
    },
    {
     "name": "stdout",
     "output_type": "stream",
     "text": [
      "\n"
     ]
    }
   ],
   "source": [
    "accs_run_4=cie.get_accuracy_samples(GaussianNB, cancer_X, cancer_y, \n",
    "                             n_iterations=100, sample_ratio=0.7,\n",
    "                             train_ratio=0.8, random_seed=None,\n",
    "                             sample_with_replacement=True, verbose=True)"
   ]
  },
  {
   "cell_type": "code",
   "execution_count": 68,
   "metadata": {},
   "outputs": [
    {
     "data": {
      "text/plain": [
       "[(0, 0.975), (1, 0.975), (2, 0.9625), (3, 0.925), (4, 0.95), (5, 1.0)]"
      ]
     },
     "execution_count": 68,
     "metadata": {},
     "output_type": "execute_result"
    }
   ],
   "source": [
    "[(k, accs_run_4[k]) for k in range(6)]"
   ]
  },
  {
   "cell_type": "code",
   "execution_count": 69,
   "metadata": {},
   "outputs": [
    {
     "name": "stdout",
     "output_type": "stream",
     "text": [
      "From the given data, with 95.0% confidence the accuracy of the model is in 0.937 +/-0.057.\n"
     ]
    },
    {
     "data": {
      "text/plain": [
       "(0.9374999999999999, 0.05656249999999996)"
      ]
     },
     "execution_count": 69,
     "metadata": {},
     "output_type": "execute_result"
    }
   ],
   "source": [
    "cie.nonparametric_confidence_interval(accs_run_4, .95)"
   ]
  },
  {
   "cell_type": "code",
   "execution_count": null,
   "metadata": {},
   "outputs": [],
   "source": []
  }
 ],
 "metadata": {
  "kernelspec": {
   "display_name": "Python 3",
   "language": "python",
   "name": "python3"
  },
  "language_info": {
   "codemirror_mode": {
    "name": "ipython",
    "version": 3
   },
   "file_extension": ".py",
   "mimetype": "text/x-python",
   "name": "python",
   "nbconvert_exporter": "python",
   "pygments_lexer": "ipython3",
   "version": "3.6.8"
  }
 },
 "nbformat": 4,
 "nbformat_minor": 4
}
