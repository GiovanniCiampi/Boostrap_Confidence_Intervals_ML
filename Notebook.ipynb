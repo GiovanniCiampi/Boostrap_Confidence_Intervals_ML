{
 "cells": [
  {
   "cell_type": "markdown",
   "metadata": {},
   "source": [
    "# Empirical Estimation of Confidence Intervals for Machine Learning\n",
    "This notebook presents the usage of python functions to perform empirical\n",
    "estimation of confidence intervals for machine learning models. This kind of confidence interval estimation is often\n",
    "called \"Bootstrap Confidence Interval\" or \"Monte Carlo Confidence Interval\" estimation."
   ]
  },
  {
   "cell_type": "code",
   "execution_count": 1,
   "metadata": {},
   "outputs": [],
   "source": [
    "import numpy as np\n",
    "from tqdm.auto import tqdm"
   ]
  },
  {
   "cell_type": "code",
   "execution_count": 2,
   "metadata": {},
   "outputs": [],
   "source": [
    "%%capture\n",
    "\n",
    "from keras.models import Sequential\n",
    "from keras.layers import Dense"
   ]
  },
  {
   "cell_type": "code",
   "execution_count": 3,
   "metadata": {},
   "outputs": [],
   "source": [
    "from sklearn.datasets import load_iris, load_breast_cancer\n",
    "\n",
    "from sklearn.preprocessing import OneHotEncoder\n",
    "\n",
    "from sklearn.ensemble import RandomForestClassifier \n",
    "from sklearn.neighbors import KNeighborsClassifier\n",
    "from sklearn.naive_bayes import GaussianNB"
   ]
  },
  {
   "cell_type": "code",
   "execution_count": 4,
   "metadata": {},
   "outputs": [],
   "source": [
    "from bootstrap_confindence_intervals import get_accuracy_on_samples, get_confidence_interval, plot_confidence"
   ]
  },
  {
   "cell_type": "code",
   "execution_count": null,
   "metadata": {},
   "outputs": [],
   "source": []
  },
  {
   "cell_type": "markdown",
   "metadata": {},
   "source": [
    "# Basic Usage\n",
    "The basic usage of the functions is presented by computing different confidence intervals for a random-forest classifier over the iris dataset."
   ]
  },
  {
   "cell_type": "code",
   "execution_count": 5,
   "metadata": {},
   "outputs": [],
   "source": [
    "# Data loading and presentation\n",
    "\n",
    "iris_dataset = load_iris()\n",
    "iris_X, iris_y = iris_dataset['data'], iris_dataset['target']"
   ]
  },
  {
   "cell_type": "code",
   "execution_count": 6,
   "metadata": {},
   "outputs": [
    {
     "data": {
      "text/plain": [
       "[(array([5.1, 3.5, 1.4, 0.2]), 0),\n",
       " (array([4.9, 3. , 1.4, 0.2]), 0),\n",
       " (array([4.7, 3.2, 1.3, 0.2]), 0),\n",
       " (array([4.6, 3.1, 1.5, 0.2]), 0),\n",
       " (array([5. , 3.6, 1.4, 0.2]), 0)]"
      ]
     },
     "execution_count": 6,
     "metadata": {},
     "output_type": "execute_result"
    }
   ],
   "source": [
    "[(a, b) for (a, b) in zip(iris_X, iris_y)][:5]"
   ]
  },
  {
   "cell_type": "code",
   "execution_count": 7,
   "metadata": {},
   "outputs": [
    {
     "data": {
      "text/plain": [
       "[(array([6.7, 3. , 5.2, 2.3]), 2),\n",
       " (array([6.3, 2.5, 5. , 1.9]), 2),\n",
       " (array([6.5, 3. , 5.2, 2. ]), 2),\n",
       " (array([6.2, 3.4, 5.4, 2.3]), 2),\n",
       " (array([5.9, 3. , 5.1, 1.8]), 2)]"
      ]
     },
     "execution_count": 7,
     "metadata": {},
     "output_type": "execute_result"
    }
   ],
   "source": [
    "[(a, b) for (a, b) in zip(iris_X, iris_y)][-5:]"
   ]
  },
  {
   "cell_type": "code",
   "execution_count": null,
   "metadata": {},
   "outputs": [],
   "source": []
  },
  {
   "cell_type": "code",
   "execution_count": 8,
   "metadata": {},
   "outputs": [],
   "source": [
    "# These parameters will be passed to the constructor of RandomForestClassifier for the creation of each new instance\n",
    "\n",
    "rfc_params_dict = {\"n_estimators\":20, \"max_depth\":3}"
   ]
  },
  {
   "cell_type": "code",
   "execution_count": 9,
   "metadata": {},
   "outputs": [
    {
     "name": "stdout",
     "output_type": "stream",
     "text": [
      "Evaluating model on 100 samples of (X, y).\n",
      "Each sample will contain 105 elements from (X, y), out of which 84 elements\n",
      "will be used to train the model, while the remaining 21 elements to test its accuracy.\n"
     ]
    },
    {
     "data": {
      "application/vnd.jupyter.widget-view+json": {
       "model_id": "399d5483d0cf4603b8ac1904f1a630a7",
       "version_major": 2,
       "version_minor": 0
      },
      "text/plain": [
       "HBox(children=(HTML(value=''), FloatProgress(value=0.0), HTML(value='')))"
      ]
     },
     "metadata": {},
     "output_type": "display_data"
    },
    {
     "name": "stdout",
     "output_type": "stream",
     "text": [
      "\n"
     ]
    }
   ],
   "source": [
    "# The accuracy of a random-forest classifier is evaluated on 100 samples of the iris dataset. Each sample is sampled\n",
    "# with replacement from the original dataset.\n",
    "\n",
    "accs=get_accuracy_on_samples(RandomForestClassifier, iris_X, iris_y,\n",
    "                             model_params_dict=rfc_params_dict,\n",
    "                             n_iterations=100, sample_ratio=0.7,\n",
    "                             train_ratio=0.8, random_seed=None,\n",
    "                             sample_with_replacement=True, verbose=True)"
   ]
  },
  {
   "cell_type": "code",
   "execution_count": 10,
   "metadata": {},
   "outputs": [
    {
     "data": {
      "text/plain": [
       "[(0, 1.0),\n",
       " (1, 0.9523809523809523),\n",
       " (2, 1.0),\n",
       " (3, 0.9047619047619048),\n",
       " (4, 0.9523809523809523)]"
      ]
     },
     "execution_count": 10,
     "metadata": {},
     "output_type": "execute_result"
    }
   ],
   "source": [
    "[(k, accs[k]) for k in range(5)]"
   ]
  },
  {
   "cell_type": "code",
   "execution_count": 11,
   "metadata": {},
   "outputs": [
    {
     "name": "stdout",
     "output_type": "stream",
     "text": [
      "From the given data, with 90% probability the accuracy of the model is 95.24% +/-4.76.\n"
     ]
    },
    {
     "data": {
      "text/plain": [
       "{'lower_bound': 0.9047619047619048, 'median': 1.0, 'upper_bound': 1.0}"
      ]
     },
     "execution_count": 11,
     "metadata": {},
     "output_type": "execute_result"
    }
   ],
   "source": [
    "# Confidence intervals are estimated from the performance of the models in the 100 evaluations.\n",
    "\n",
    "get_confidence_interval(accs, 10)"
   ]
  },
  {
   "cell_type": "code",
   "execution_count": 12,
   "metadata": {},
   "outputs": [
    {
     "name": "stdout",
     "output_type": "stream",
     "text": [
      "From the given data, with 95% probability the accuracy of the model is 95.24% +/-4.76.\n"
     ]
    },
    {
     "data": {
      "text/plain": [
       "{'lower_bound': 0.9047619047619048, 'median': 1.0, 'upper_bound': 1.0}"
      ]
     },
     "execution_count": 12,
     "metadata": {},
     "output_type": "execute_result"
    }
   ],
   "source": [
    "get_confidence_interval(accs, 5)"
   ]
  },
  {
   "cell_type": "code",
   "execution_count": 13,
   "metadata": {},
   "outputs": [
    {
     "name": "stdout",
     "output_type": "stream",
     "text": [
      "From the given data, with 99% probability the accuracy of the model is 92.86% +/-7.14.\n"
     ]
    },
    {
     "data": {
      "text/plain": [
       "{'lower_bound': 0.8571428571428571, 'median': 1.0, 'upper_bound': 1.0}"
      ]
     },
     "execution_count": 13,
     "metadata": {},
     "output_type": "execute_result"
    }
   ],
   "source": [
    "get_confidence_interval(accs, 1)"
   ]
  },
  {
   "cell_type": "code",
   "execution_count": null,
   "metadata": {},
   "outputs": [],
   "source": []
  },
  {
   "cell_type": "markdown",
   "metadata": {},
   "source": [
    "# Neural Networks and One-Hot-Encoding\n",
    "The following example shows how to use the functions with simple neural networks and one hot encoding of labels."
   ]
  },
  {
   "cell_type": "code",
   "execution_count": 14,
   "metadata": {},
   "outputs": [],
   "source": [
    "%%capture\n",
    "iris_y_onehot = OneHotEncoder().fit_transform(iris_y.reshape(-1, 1)).toarray()"
   ]
  },
  {
   "cell_type": "code",
   "execution_count": 15,
   "metadata": {},
   "outputs": [
    {
     "data": {
      "text/plain": [
       "(array([[1., 0., 0.],\n",
       "        [1., 0., 0.],\n",
       "        [1., 0., 0.],\n",
       "        [1., 0., 0.],\n",
       "        [1., 0., 0.]]), array([[0., 0., 1.],\n",
       "        [0., 0., 1.],\n",
       "        [0., 0., 1.],\n",
       "        [0., 0., 1.],\n",
       "        [0., 0., 1.]]))"
      ]
     },
     "execution_count": 15,
     "metadata": {},
     "output_type": "execute_result"
    }
   ],
   "source": [
    "iris_y_onehot[:5], iris_y_onehot[-5:]"
   ]
  },
  {
   "cell_type": "code",
   "execution_count": 16,
   "metadata": {},
   "outputs": [],
   "source": [
    "# The following function will return instances of the model\n",
    "\n",
    "def get_model(hidden_units,  n_output_units, hidden_activation=\"relu\",\n",
    "              output_activation=\"softmax\", loss=\"binary_crossentropy\",\n",
    "              optimizer=\"adam\", metric=\"accuracy\"):\n",
    "    model = Sequential()\n",
    "    \n",
    "    for u in hidden_units:\n",
    "        model.add(Dense(u, activation=hidden_activation))\n",
    "    model.add(Dense(n_output_units, activation=output_activation))\n",
    "    \n",
    "    model.compile(loss=loss, optimizer=optimizer, metrics=[metric])\n",
    "    return model"
   ]
  },
  {
   "cell_type": "code",
   "execution_count": 17,
   "metadata": {},
   "outputs": [],
   "source": [
    "model = get_model(hidden_units=[30, 20, 10],  n_output_units=3)"
   ]
  },
  {
   "cell_type": "code",
   "execution_count": 18,
   "metadata": {},
   "outputs": [
    {
     "name": "stderr",
     "output_type": "stream",
     "text": [
      "WARNING: Logging before flag parsing goes to stderr.\n",
      "W1231 02:07:49.825320 139628666992448 deprecation.py:323] From /usr/local/lib/python3.6/dist-packages/tensorflow/python/ops/math_grad.py:1250: add_dispatch_support.<locals>.wrapper (from tensorflow.python.ops.array_ops) is deprecated and will be removed in a future version.\n",
      "Instructions for updating:\n",
      "Use tf.where in 2.0, which has the same broadcast rule as np.where\n",
      "W1231 02:07:51.404954 139628666992448 deprecation_wrapper.py:119] From /usr/local/lib/python3.6/dist-packages/keras/backend/tensorflow_backend.py:422: The name tf.global_variables is deprecated. Please use tf.compat.v1.global_variables instead.\n",
      "\n"
     ]
    },
    {
     "name": "stdout",
     "output_type": "stream",
     "text": [
      "Epoch 1/8\n",
      "150/150 [==============================] - 0s 2ms/step - loss: 0.6518 - accuracy: 0.6689\n",
      "Epoch 2/8\n",
      "150/150 [==============================] - 0s 267us/step - loss: 0.6134 - accuracy: 0.7222\n",
      "Epoch 3/8\n",
      "150/150 [==============================] - 0s 256us/step - loss: 0.5934 - accuracy: 0.6933\n",
      "Epoch 4/8\n",
      "150/150 [==============================] - 0s 260us/step - loss: 0.5789 - accuracy: 0.7578\n",
      "Epoch 5/8\n",
      "150/150 [==============================] - 0s 253us/step - loss: 0.5647 - accuracy: 0.7578\n",
      "Epoch 6/8\n",
      "150/150 [==============================] - 0s 248us/step - loss: 0.5498 - accuracy: 0.7689\n",
      "Epoch 7/8\n",
      "150/150 [==============================] - 0s 260us/step - loss: 0.5380 - accuracy: 0.7467\n",
      "Epoch 8/8\n",
      "150/150 [==============================] - 0s 255us/step - loss: 0.5281 - accuracy: 0.7578\n"
     ]
    },
    {
     "data": {
      "text/plain": [
       "<keras.callbacks.callbacks.History at 0x7efd2c91eb00>"
      ]
     },
     "execution_count": 18,
     "metadata": {},
     "output_type": "execute_result"
    }
   ],
   "source": [
    "model.fit(iris_X, iris_y_onehot, epochs = 8, verbose=1, batch_size=10)"
   ]
  },
  {
   "cell_type": "code",
   "execution_count": 19,
   "metadata": {},
   "outputs": [
    {
     "data": {
      "text/plain": [
       "array([[0.3251308 , 0.4254945 , 0.24937472],\n",
       "       [0.32434875, 0.4273623 , 0.24828899],\n",
       "       [0.32764924, 0.41847566, 0.2538751 ],\n",
       "       [0.3285712 , 0.41601464, 0.25541416],\n",
       "       [0.32688448, 0.42080313, 0.25231245]], dtype=float32)"
      ]
     },
     "execution_count": 19,
     "metadata": {},
     "output_type": "execute_result"
    }
   ],
   "source": [
    "model.predict(iris_X[:5])"
   ]
  },
  {
   "cell_type": "code",
   "execution_count": null,
   "metadata": {},
   "outputs": [],
   "source": []
  },
  {
   "cell_type": "code",
   "execution_count": 20,
   "metadata": {},
   "outputs": [],
   "source": [
    "dnn_params_dict = {'hidden_units':[30, 20, 10], 'hidden_activation':\"relu\", 'n_output_units':3,\n",
    "                   'output_activation':\"softmax\", 'loss':'binary_crossentropy', 'optimizer':'adam'}\n",
    "\n",
    "# These parameters will be passed to the network on the calls of the fit method.\n",
    "dnn_fit_params_dict={'epochs':50, 'batch_size':10, 'verbose':0}"
   ]
  },
  {
   "cell_type": "code",
   "execution_count": null,
   "metadata": {},
   "outputs": [],
   "source": []
  },
  {
   "cell_type": "code",
   "execution_count": 21,
   "metadata": {},
   "outputs": [
    {
     "name": "stdout",
     "output_type": "stream",
     "text": [
      "Evaluating model on 20 samples of (X, y).\n",
      "Each sample will contain 105 elements from (X, y), out of which 84 elements\n",
      "will be used to train the model, while the remaining 21 elements to test its accuracy.\n"
     ]
    },
    {
     "data": {
      "application/vnd.jupyter.widget-view+json": {
       "model_id": "7e4290f2f811490a93e566a9e086d6ac",
       "version_major": 2,
       "version_minor": 0
      },
      "text/plain": [
       "HBox(children=(HTML(value=''), FloatProgress(value=0.0, max=20.0), HTML(value='')))"
      ]
     },
     "metadata": {},
     "output_type": "display_data"
    },
    {
     "name": "stdout",
     "output_type": "stream",
     "text": [
      "\n"
     ]
    }
   ],
   "source": [
    "accs=get_accuracy_on_samples(get_model, iris_X, iris_y_onehot, model_params_dict=dnn_params_dict,\n",
    "                            fit_params_dict=dnn_fit_params_dict, n_iterations=20, sample_ratio=0.7,\n",
    "                            train_ratio=0.8, random_seed=None, sample_with_replacement=True,\n",
    "                             verbose=True, is_one_hot=True)"
   ]
  },
  {
   "cell_type": "code",
   "execution_count": 22,
   "metadata": {},
   "outputs": [
    {
     "name": "stdout",
     "output_type": "stream",
     "text": [
      "From the given data, with 90% probability the accuracy of the model is 97.62% +/-2.38.\n"
     ]
    },
    {
     "data": {
      "text/plain": [
       "{'lower_bound': 0.9523809523809523, 'median': 1.0, 'upper_bound': 1.0}"
      ]
     },
     "execution_count": 22,
     "metadata": {},
     "output_type": "execute_result"
    }
   ],
   "source": [
    "get_confidence_interval(accs, 10)"
   ]
  },
  {
   "cell_type": "code",
   "execution_count": 23,
   "metadata": {},
   "outputs": [
    {
     "name": "stdout",
     "output_type": "stream",
     "text": [
      "From the given data, with 95% probability the accuracy of the model is 97.62% +/-2.38.\n"
     ]
    },
    {
     "data": {
      "text/plain": [
       "{'lower_bound': 0.9523809523809523, 'median': 1.0, 'upper_bound': 1.0}"
      ]
     },
     "execution_count": 23,
     "metadata": {},
     "output_type": "execute_result"
    }
   ],
   "source": [
    "get_confidence_interval(accs, 5)"
   ]
  },
  {
   "cell_type": "code",
   "execution_count": 24,
   "metadata": {},
   "outputs": [
    {
     "name": "stdout",
     "output_type": "stream",
     "text": [
      "From the given data, with 99% probability the accuracy of the model is 97.62% +/-2.38.\n"
     ]
    },
    {
     "data": {
      "text/plain": [
       "{'lower_bound': 0.9523809523809523, 'median': 1.0, 'upper_bound': 1.0}"
      ]
     },
     "execution_count": 24,
     "metadata": {},
     "output_type": "execute_result"
    }
   ],
   "source": [
    "get_confidence_interval(accs, 1)"
   ]
  },
  {
   "cell_type": "code",
   "execution_count": null,
   "metadata": {},
   "outputs": [],
   "source": []
  },
  {
   "cell_type": "markdown",
   "metadata": {},
   "source": [
    "# Plotting Confidence Intervals\n",
    "The following example shows how to plot confidence intervals.  "
   ]
  },
  {
   "cell_type": "code",
   "execution_count": 25,
   "metadata": {},
   "outputs": [
    {
     "data": {
      "text/plain": [
       "[(array([1.799e+01, 1.038e+01, 1.228e+02, 1.001e+03, 1.184e-01]), 0),\n",
       " (array([2.057e+01, 1.777e+01, 1.329e+02, 1.326e+03, 8.474e-02]), 0)]"
      ]
     },
     "execution_count": 25,
     "metadata": {},
     "output_type": "execute_result"
    }
   ],
   "source": [
    "# Data loading and presentation\n",
    "\n",
    "cancer_dataset = load_breast_cancer()\n",
    "cancer_X, cancer_y = cancer_dataset['data'], cancer_dataset['target']\n",
    "[(a[:5], b) for (a, b) in zip(cancer_X, cancer_y)][:2]"
   ]
  },
  {
   "cell_type": "code",
   "execution_count": 26,
   "metadata": {},
   "outputs": [
    {
     "data": {
      "text/plain": [
       "[(array([2.060e+01, 2.933e+01, 1.401e+02, 1.265e+03, 1.178e-01]), 0),\n",
       " (array([7.760e+00, 2.454e+01, 4.792e+01, 1.810e+02, 5.263e-02]), 1)]"
      ]
     },
     "execution_count": 26,
     "metadata": {},
     "output_type": "execute_result"
    }
   ],
   "source": [
    "[(a[:5], b) for (a, b) in zip(cancer_X, cancer_y)][-2:]"
   ]
  },
  {
   "cell_type": "code",
   "execution_count": 27,
   "metadata": {},
   "outputs": [],
   "source": [
    "neigbhors= [1, 3, 5, 7, 10, 15, 20, 50, 100, 200]\n",
    "nn_params_dict = {\"n_neighbors\":None}"
   ]
  },
  {
   "cell_type": "code",
   "execution_count": 28,
   "metadata": {},
   "outputs": [
    {
     "data": {
      "application/vnd.jupyter.widget-view+json": {
       "model_id": "f20d4dcfc28a4bf183d237d0b5bab04d",
       "version_major": 2,
       "version_minor": 0
      },
      "text/plain": [
       "HBox(children=(HTML(value=''), FloatProgress(value=0.0, max=10.0), HTML(value='')))"
      ]
     },
     "metadata": {},
     "output_type": "display_data"
    },
    {
     "name": "stdout",
     "output_type": "stream",
     "text": [
      "\n"
     ]
    }
   ],
   "source": [
    "# As an example we will test different hyperparameters for KNN classifiers.\n",
    "\n",
    "confidence = {90:[], 95:[], 99:[]}\n",
    "for k in tqdm(neigbhors):\n",
    "    nn_params_dict[\"n_neighbors\"]=k\n",
    "    accs=get_accuracy_on_samples(KNeighborsClassifier, cancer_X, cancer_y,\n",
    "                             model_params_dict=nn_params_dict,\n",
    "                             n_iterations=100, sample_ratio=0.7,\n",
    "                             train_ratio=0.7, random_seed=42,\n",
    "                             sample_with_replacement=True,\n",
    "                             verbose=False, progress_bar=False)\n",
    "    \n",
    "    confidence[90].append(get_confidence_interval(accs, 10, verbose=False))\n",
    "    confidence[95].append(get_confidence_interval(accs, 5, verbose=False))\n",
    "    confidence[99].append(get_confidence_interval(accs, 1, verbose=False))"
   ]
  },
  {
   "cell_type": "code",
   "execution_count": null,
   "metadata": {},
   "outputs": [],
   "source": []
  },
  {
   "cell_type": "code",
   "execution_count": 29,
   "metadata": {},
   "outputs": [
    {
     "data": {
      "image/png": "[encoded data removed]",
      "text/plain": [
       "<Figure size 432x288 with 1 Axes>"
      ]
     },
     "metadata": {
      "needs_background": "light"
     },
     "output_type": "display_data"
    }
   ],
   "source": [
    "lower_bounds = [c[\"lower_bound\"] for c in confidence[90]]\n",
    "median = [c[\"median\"] for c in confidence[90]]\n",
    "upper_bounds = [c[\"upper_bound\"] for c in confidence[90]]\n",
    "\n",
    "plot_confidence(lower_bounds, median, upper_bounds,\n",
    "                    x_axis=neigbhors, xlabel=\"n_neighbors\", y_bottom=0,\n",
    "                    y_top=1, color='b', ylabel=\"accuracy\")"
   ]
  },
  {
   "cell_type": "code",
   "execution_count": 30,
   "metadata": {},
   "outputs": [
    {
     "data": {
      "image/png": "[encoded data removed]",
      "text/plain": [
       "<Figure size 432x288 with 1 Axes>"
      ]
     },
     "metadata": {
      "needs_background": "light"
     },
     "output_type": "display_data"
    }
   ],
   "source": [
    "lower_bounds = [c[\"lower_bound\"] for c in confidence[95]]\n",
    "median = [c[\"median\"] for c in confidence[95]]\n",
    "upper_bounds = [c[\"upper_bound\"] for c in confidence[95]]\n",
    "\n",
    "plot_confidence(lower_bounds, median, upper_bounds,\n",
    "                    x_axis=neigbhors, xlabel=\"n_neighbors\", y_bottom=0,\n",
    "                    y_top=1, color='b', ylabel=\"accuracy\")"
   ]
  },
  {
   "cell_type": "code",
   "execution_count": 31,
   "metadata": {},
   "outputs": [
    {
     "data": {
      "image/png": "[encoded data removed]",
      "text/plain": [
       "<Figure size 432x288 with 1 Axes>"
      ]
     },
     "metadata": {
      "needs_background": "light"
     },
     "output_type": "display_data"
    }
   ],
   "source": [
    "lower_bounds = [c[\"lower_bound\"] for c in confidence[99]]\n",
    "median = [c[\"median\"] for c in confidence[99]]\n",
    "upper_bounds = [c[\"upper_bound\"] for c in confidence[99]]\n",
    "\n",
    "plot_confidence(lower_bounds, median, upper_bounds,\n",
    "                    x_axis=neigbhors, xlabel=\"n_neighbors\", y_bottom=0,\n",
    "                    y_top=1, color='b', ylabel=\"accuracy\")"
   ]
  },
  {
   "cell_type": "code",
   "execution_count": null,
   "metadata": {},
   "outputs": [],
   "source": []
  },
  {
   "cell_type": "markdown",
   "metadata": {},
   "source": [
    "# Deterministic Resampling\n",
    "The following example shows the usage of the $\\texttt{random_seed}$ parameter."
   ]
  },
  {
   "cell_type": "code",
   "execution_count": 32,
   "metadata": {},
   "outputs": [
    {
     "name": "stdout",
     "output_type": "stream",
     "text": [
      "Evaluating model on 100 samples of (X, y).\n",
      "Each sample will contain 398 elements from (X, y), out of which 318 elements\n",
      "will be used to train the model, while the remaining 80 elements to test its accuracy.\n"
     ]
    },
    {
     "data": {
      "application/vnd.jupyter.widget-view+json": {
       "model_id": "eecf61faf448496e89aaf0e6633fd54d",
       "version_major": 2,
       "version_minor": 0
      },
      "text/plain": [
       "HBox(children=(HTML(value=''), FloatProgress(value=0.0), HTML(value='')))"
      ]
     },
     "metadata": {},
     "output_type": "display_data"
    },
    {
     "name": "stdout",
     "output_type": "stream",
     "text": [
      "\n"
     ]
    }
   ],
   "source": [
    "# Here the random_seed param is set.\n",
    "\n",
    "accs_run_1=get_accuracy_on_samples(GaussianNB, cancer_X, cancer_y,\n",
    "                             n_iterations=100, sample_ratio=0.7,\n",
    "                             train_ratio=0.8, random_seed=42,\n",
    "                             sample_with_replacement=True, verbose=True)"
   ]
  },
  {
   "cell_type": "code",
   "execution_count": 33,
   "metadata": {},
   "outputs": [
    {
     "data": {
      "text/plain": [
       "[(0, 0.95), (1, 0.9), (2, 0.8875), (3, 0.9625), (4, 0.9625), (5, 0.8625)]"
      ]
     },
     "execution_count": 33,
     "metadata": {},
     "output_type": "execute_result"
    }
   ],
   "source": [
    "[(k, accs_run_1[k]) for k in range(6)]"
   ]
  },
  {
   "cell_type": "code",
   "execution_count": 34,
   "metadata": {},
   "outputs": [
    {
     "name": "stdout",
     "output_type": "stream",
     "text": [
      "From the given data, with 95% probability the accuracy of the model is 93.42% +/-5.33.\n"
     ]
    },
    {
     "data": {
      "text/plain": [
       "{'lower_bound': 0.8809374999999999, 'median': 0.9375, 'upper_bound': 0.9875}"
      ]
     },
     "execution_count": 34,
     "metadata": {},
     "output_type": "execute_result"
    }
   ],
   "source": [
    "get_confidence_interval(accs_run_1, 5)"
   ]
  },
  {
   "cell_type": "code",
   "execution_count": 35,
   "metadata": {},
   "outputs": [
    {
     "name": "stdout",
     "output_type": "stream",
     "text": [
      "Evaluating model on 100 samples of (X, y).\n",
      "Each sample will contain 398 elements from (X, y), out of which 318 elements\n",
      "will be used to train the model, while the remaining 80 elements to test its accuracy.\n"
     ]
    },
    {
     "data": {
      "application/vnd.jupyter.widget-view+json": {
       "model_id": "ebdaa2d404ac408fa3b143784e60c06e",
       "version_major": 2,
       "version_minor": 0
      },
      "text/plain": [
       "HBox(children=(HTML(value=''), FloatProgress(value=0.0), HTML(value='')))"
      ]
     },
     "metadata": {},
     "output_type": "display_data"
    },
    {
     "name": "stdout",
     "output_type": "stream",
     "text": [
      "\n"
     ]
    }
   ],
   "source": [
    "accs_run_2=get_accuracy_on_samples(GaussianNB, cancer_X, cancer_y,\n",
    "                             n_iterations=100, sample_ratio=0.7,\n",
    "                             train_ratio=0.8, random_seed=42,\n",
    "                             sample_with_replacement=True, verbose=True)"
   ]
  },
  {
   "cell_type": "code",
   "execution_count": 36,
   "metadata": {},
   "outputs": [
    {
     "data": {
      "text/plain": [
       "[(0, 0.95), (1, 0.9), (2, 0.8875), (3, 0.9625), (4, 0.9625), (5, 0.8625)]"
      ]
     },
     "execution_count": 36,
     "metadata": {},
     "output_type": "execute_result"
    }
   ],
   "source": [
    "# As you can see, the results are identical to the previous run of the function. Be aware that the results\n",
    "# also depend on the model's characteristic. As an example, if the random seed is set, but the model has \n",
    "# some sort of random initialization (i.e. Neural Networks), you may see different results although the\n",
    "# resampling of the data was identical.\n",
    "\n",
    "[(k, accs_run_2[k]) for k in range(6)]"
   ]
  },
  {
   "cell_type": "code",
   "execution_count": 37,
   "metadata": {},
   "outputs": [
    {
     "name": "stdout",
     "output_type": "stream",
     "text": [
      "From the given data, with 95% probability the accuracy of the model is 93.42% +/-5.33.\n"
     ]
    },
    {
     "data": {
      "text/plain": [
       "{'lower_bound': 0.8809374999999999, 'median': 0.9375, 'upper_bound': 0.9875}"
      ]
     },
     "execution_count": 37,
     "metadata": {},
     "output_type": "execute_result"
    }
   ],
   "source": [
    "get_confidence_interval(accs_run_2, 5)"
   ]
  },
  {
   "cell_type": "code",
   "execution_count": null,
   "metadata": {},
   "outputs": [],
   "source": []
  },
  {
   "cell_type": "code",
   "execution_count": 38,
   "metadata": {},
   "outputs": [
    {
     "name": "stdout",
     "output_type": "stream",
     "text": [
      "Evaluating model on 100 samples of (X, y).\n",
      "Each sample will contain 398 elements from (X, y), out of which 318 elements\n",
      "will be used to train the model, while the remaining 80 elements to test its accuracy.\n"
     ]
    },
    {
     "data": {
      "application/vnd.jupyter.widget-view+json": {
       "model_id": "31ef7c352eb4490a940e5b02eed262f4",
       "version_major": 2,
       "version_minor": 0
      },
      "text/plain": [
       "HBox(children=(HTML(value=''), FloatProgress(value=0.0), HTML(value='')))"
      ]
     },
     "metadata": {},
     "output_type": "display_data"
    },
    {
     "name": "stdout",
     "output_type": "stream",
     "text": [
      "\n"
     ]
    }
   ],
   "source": [
    "# Here the random_seed param is set to None\n",
    "\n",
    "accs_run_3=get_accuracy_on_samples(GaussianNB, cancer_X, cancer_y,\n",
    "                             n_iterations=100, sample_ratio=0.7,\n",
    "                             train_ratio=0.8, random_seed=None,\n",
    "                             sample_with_replacement=True, verbose=True)"
   ]
  },
  {
   "cell_type": "code",
   "execution_count": 39,
   "metadata": {},
   "outputs": [
    {
     "data": {
      "text/plain": [
       "[(0, 0.9125), (1, 0.95), (2, 0.95), (3, 0.9), (4, 0.975), (5, 0.95)]"
      ]
     },
     "execution_count": 39,
     "metadata": {},
     "output_type": "execute_result"
    }
   ],
   "source": [
    "[(k, accs_run_3[k]) for k in range(6)]"
   ]
  },
  {
   "cell_type": "code",
   "execution_count": 40,
   "metadata": {},
   "outputs": [
    {
     "name": "stdout",
     "output_type": "stream",
     "text": [
      "From the given data, with 95% probability the accuracy of the model is 93.12% +/-5.63.\n"
     ]
    },
    {
     "data": {
      "text/plain": [
       "{'lower_bound': 0.875, 'median': 0.9375, 'upper_bound': 0.9875}"
      ]
     },
     "execution_count": 40,
     "metadata": {},
     "output_type": "execute_result"
    }
   ],
   "source": [
    "get_confidence_interval(accs_run_3, 5)"
   ]
  },
  {
   "cell_type": "code",
   "execution_count": 41,
   "metadata": {},
   "outputs": [
    {
     "name": "stdout",
     "output_type": "stream",
     "text": [
      "Evaluating model on 100 samples of (X, y).\n",
      "Each sample will contain 398 elements from (X, y), out of which 318 elements\n",
      "will be used to train the model, while the remaining 80 elements to test its accuracy.\n"
     ]
    },
    {
     "data": {
      "application/vnd.jupyter.widget-view+json": {
       "model_id": "1edb73b391d445d69d7f7cc859bed25a",
       "version_major": 2,
       "version_minor": 0
      },
      "text/plain": [
       "HBox(children=(HTML(value=''), FloatProgress(value=0.0), HTML(value='')))"
      ]
     },
     "metadata": {},
     "output_type": "display_data"
    },
    {
     "name": "stdout",
     "output_type": "stream",
     "text": [
      "\n"
     ]
    }
   ],
   "source": [
    "accs_run_4=get_accuracy_on_samples(GaussianNB, cancer_X, cancer_y,\n",
    "                             n_iterations=100, sample_ratio=0.7,\n",
    "                             train_ratio=0.8, random_seed=None,\n",
    "                             sample_with_replacement=True, verbose=True)"
   ]
  },
  {
   "cell_type": "code",
   "execution_count": 42,
   "metadata": {},
   "outputs": [
    {
     "data": {
      "text/plain": [
       "[(0, 0.975), (1, 0.975), (2, 0.9625), (3, 0.925), (4, 0.95), (5, 1.0)]"
      ]
     },
     "execution_count": 42,
     "metadata": {},
     "output_type": "execute_result"
    }
   ],
   "source": [
    "[(k, accs_run_4[k]) for k in range(6)]"
   ]
  },
  {
   "cell_type": "code",
   "execution_count": 43,
   "metadata": {},
   "outputs": [
    {
     "name": "stdout",
     "output_type": "stream",
     "text": [
      "From the given data, with 95% probability the accuracy of the model is 93.75% +/-5.66.\n"
     ]
    },
    {
     "data": {
      "text/plain": [
       "{'lower_bound': 0.8809374999999999,\n",
       " 'median': 0.95,\n",
       " 'upper_bound': 0.9940624999999998}"
      ]
     },
     "execution_count": 43,
     "metadata": {},
     "output_type": "execute_result"
    }
   ],
   "source": [
    "get_confidence_interval(accs_run_4, 5)"
   ]
  },
  {
   "cell_type": "code",
   "execution_count": null,
   "metadata": {},
   "outputs": [],
   "source": []
  }
 ],
 "metadata": {
  "kernelspec": {
   "display_name": "Python 3",
   "language": "python",
   "name": "python3"
  },
  "language_info": {
   "codemirror_mode": {
    "name": "ipython",
    "version": 3
   },
   "file_extension": ".py",
   "mimetype": "text/x-python",
   "name": "python",
   "nbconvert_exporter": "python",
   "pygments_lexer": "ipython3",
   "version": "3.6.8"
  }
 },
 "nbformat": 4,
 "nbformat_minor": 4
}
